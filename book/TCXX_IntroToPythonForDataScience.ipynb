{
  "nbformat": 4,
  "nbformat_minor": 0,
  "metadata": {
    "kernelspec": {
      "display_name": "Python 3",
      "language": "python",
      "name": "python3"
    },
    "language_info": {
      "codemirror_mode": {
        "name": "ipython",
        "version": 3
      },
      "file_extension": ".py",
      "mimetype": "text/x-python",
      "name": "python",
      "nbconvert_exporter": "python",
      "pygments_lexer": "ipython3",
      "version": "3.6.8"
    },
    "colab": {
      "name": "TCXX-IntroToPythonForDataScience.ipynb",
      "version": "0.3.2",
      "provenance": [],
      "collapsed_sections": [
        "PVaDCUZIP4pX",
        "ve-UELV_P4pg",
        "V-Rvu-KDP4pm",
        "9OubIwByP4po",
        "PoIJlDJhP4pq",
        "4akDoV6lP4pu",
        "5nwc2GQkP4pw",
        "Fc7y-2HHP4pz",
        "Io2Bo1cfP4p3",
        "DOqJsu9oP4p7",
        "f4j7w6kiP4p8",
        "cxr_xdmDP4p9",
        "F60zRggSP4p-",
        "v2_9ST4sP4p_",
        "SaWUFnCSP4qA",
        "zaPj4OCnP4qB",
        "UnalAPgLP4qB",
        "iLC7VAGqP4qC",
        "v4eZ1Ia-P4qF",
        "jnAp7_M4P4qF",
        "fXmG6Xt-P4qH",
        "7hq1SCInP4qK",
        "yPYpQ5ATP4qM",
        "OmoJpeayP4qN",
        "mQB-hY26P4qP",
        "zOMJOh7uP4qQ"
      ],
      "include_colab_link": true
    }
  },
  "cells": [
    {
      "cell_type": "markdown",
      "metadata": {
        "id": "view-in-github",
        "colab_type": "text"
      },
      "source": [
        "<a href=\"https://colab.research.google.com/github/DayuanTan/CrackCodeInterviewAndLeetcode/blob/master/book/TCXX_IntroToPythonForDataScience.ipynb\" target=\"_parent\"><img src=\"https://colab.research.google.com/assets/colab-badge.svg\" alt=\"Open In Colab\"/></a>"
      ]
    },
    {
      "cell_type": "markdown",
      "metadata": {
        "id": "ttrR87lXP4oV",
        "colab_type": "text"
      },
      "source": [
        "# Introduction to Python for Data Science\n",
        "\n",
        "This jupyter notebook is adapted from the [**FREE** Edx course](https://www.edx.org/course/introduction-python-data-science-microsoft-dat208x-6) of the same title. "
      ]
    },
    {
      "cell_type": "code",
      "metadata": {
        "id": "jjvAx-oeP4oX",
        "colab_type": "code",
        "outputId": "ef50442e-a972-4416-d3a0-32c1789db00f",
        "colab": {
          "base_uri": "https://localhost:8080/",
          "height": 17
        }
      },
      "source": [
        "%%html\n",
        "<!-- This cell changes the alignment of Tables to the left --> \n",
        "<style>\n",
        "table {float:left}\n",
        "</style>"
      ],
      "execution_count": 0,
      "outputs": [
        {
          "output_type": "display_data",
          "data": {
            "text/html": [
              "<!-- This cell changes the alignment of Tables to the left --> \n",
              "<style>\n",
              "table {float:left}\n",
              "</style>"
            ],
            "text/plain": [
              "<IPython.core.display.HTML object>"
            ]
          },
          "metadata": {
            "tags": []
          }
        }
      ]
    },
    {
      "cell_type": "markdown",
      "metadata": {
        "id": "0GAFOr_JP4ob",
        "colab_type": "text"
      },
      "source": [
        "# 1.1. Hello Python\n",
        "\n",
        "## What you will learn\n",
        "- Python\n",
        "- Specifically for Data Science\n",
        "- Store data\n",
        "- Manipulate data\n",
        "- Tools for data analysis\n",
        "\n",
        "## Python\n",
        "- Guido Van Rossum\n",
        "- General Purpose: build anything\n",
        "- Open Source! Free!\n",
        "- Python Packages, also for Data Science\n",
        "- Many applications and fields\n",
        "- [Version 2.7 or 3.x](https://wiki.python.org/moin/Python2orPython3)"
      ]
    },
    {
      "cell_type": "markdown",
      "metadata": {
        "id": "hftNIo58P4od",
        "colab_type": "text"
      },
      "source": [
        "# 1.2. Variables and Types\n",
        "\n",
        "- Specific, case-sensitive name\n",
        "- Call up value through variable name"
      ]
    },
    {
      "cell_type": "code",
      "metadata": {
        "id": "8o59hEijP4oe",
        "colab_type": "code",
        "colab": {}
      },
      "source": [
        "height = 1.79\n",
        "weight = 68.7"
      ],
      "execution_count": 0,
      "outputs": []
    },
    {
      "cell_type": "code",
      "metadata": {
        "id": "Ah4hXLHbP4oh",
        "colab_type": "code",
        "outputId": "a19c348c-bf8a-4b30-eb42-2775c0395de8",
        "colab": {
          "base_uri": "https://localhost:8080/",
          "height": 34
        }
      },
      "source": [
        "height\n",
        "weight"
      ],
      "execution_count": 0,
      "outputs": [
        {
          "output_type": "execute_result",
          "data": {
            "text/plain": [
              "68.7"
            ]
          },
          "metadata": {
            "tags": []
          },
          "execution_count": 4
        }
      ]
    },
    {
      "cell_type": "markdown",
      "metadata": {
        "id": "fAqueNa6P4ok",
        "colab_type": "text"
      },
      "source": [
        "## Calculate BMI\n",
        "\n",
        "- Definition: $ \\text{BMI} = \\frac{\\text{weight}}{\\text{height}^2} $"
      ]
    },
    {
      "cell_type": "code",
      "metadata": {
        "id": "9PVR0eFMP4ol",
        "colab_type": "code",
        "outputId": "09a69b7b-c118-432b-bc7e-1865b20a3c6c",
        "colab": {
          "base_uri": "https://localhost:8080/",
          "height": 34
        }
      },
      "source": [
        "height = 1.79\n",
        "weight = 68.7\n",
        "bmi = weight / height ** 2\n",
        "print(bmi)"
      ],
      "execution_count": 19,
      "outputs": [
        {
          "output_type": "stream",
          "text": [
            "21.44127836209856\n"
          ],
          "name": "stdout"
        }
      ]
    },
    {
      "cell_type": "code",
      "metadata": {
        "id": "oQUh337nP4op",
        "colab_type": "code",
        "outputId": "95fac8cb-1f02-4684-eaa8-fe507de6a8f8",
        "colab": {
          "base_uri": "https://localhost:8080/",
          "height": 34
        }
      },
      "source": [
        "# changing height or weight does not alter bmi\n",
        "height = 1.34\n",
        "print(bmi)"
      ],
      "execution_count": 20,
      "outputs": [
        {
          "output_type": "stream",
          "text": [
            "21.44127836209856\n"
          ],
          "name": "stdout"
        }
      ]
    },
    {
      "cell_type": "code",
      "metadata": {
        "id": "B1z7X0x8T54d",
        "colab_type": "code",
        "outputId": "f855c378-fe58-41e8-af29-9cb6ced095c4",
        "colab": {
          "base_uri": "https://localhost:8080/",
          "height": 34
        }
      },
      "source": [
        "5/3"
      ],
      "execution_count": 0,
      "outputs": [
        {
          "output_type": "execute_result",
          "data": {
            "text/plain": [
              "1.6666666666666667"
            ]
          },
          "metadata": {
            "tags": []
          },
          "execution_count": 6
        }
      ]
    },
    {
      "cell_type": "code",
      "metadata": {
        "id": "3SEnmqo3T8-x",
        "colab_type": "code",
        "outputId": "69185f09-627a-4f26-ad36-39d700a1ebf5",
        "colab": {
          "base_uri": "https://localhost:8080/",
          "height": 34
        }
      },
      "source": [
        "5//3"
      ],
      "execution_count": 0,
      "outputs": [
        {
          "output_type": "execute_result",
          "data": {
            "text/plain": [
              "1"
            ]
          },
          "metadata": {
            "tags": []
          },
          "execution_count": 7
        }
      ]
    },
    {
      "cell_type": "code",
      "metadata": {
        "id": "7AE7aiDKT_Y0",
        "colab_type": "code",
        "outputId": "a8a415cf-9a33-4080-f031-b52587d7b3c3",
        "colab": {
          "base_uri": "https://localhost:8080/",
          "height": 34
        }
      },
      "source": [
        "5%3"
      ],
      "execution_count": 0,
      "outputs": [
        {
          "output_type": "execute_result",
          "data": {
            "text/plain": [
              "2"
            ]
          },
          "metadata": {
            "tags": []
          },
          "execution_count": 8
        }
      ]
    },
    {
      "cell_type": "code",
      "metadata": {
        "id": "F-9FAxB0qSTk",
        "colab_type": "code",
        "outputId": "5db18940-3780-4583-fc2a-fac0ff7031a7",
        "colab": {
          "base_uri": "https://localhost:8080/",
          "height": 34
        }
      },
      "source": [
        "2 * 3"
      ],
      "execution_count": 0,
      "outputs": [
        {
          "output_type": "execute_result",
          "data": {
            "text/plain": [
              "6"
            ]
          },
          "metadata": {
            "tags": []
          },
          "execution_count": 45
        }
      ]
    },
    {
      "cell_type": "code",
      "metadata": {
        "id": "QavHNm3CqUV-",
        "colab_type": "code",
        "outputId": "95962497-7ac0-432c-8986-043f047bd075",
        "colab": {
          "base_uri": "https://localhost:8080/",
          "height": 34
        }
      },
      "source": [
        "2 ** 3"
      ],
      "execution_count": 0,
      "outputs": [
        {
          "output_type": "execute_result",
          "data": {
            "text/plain": [
              "8"
            ]
          },
          "metadata": {
            "tags": []
          },
          "execution_count": 46
        }
      ]
    },
    {
      "cell_type": "markdown",
      "metadata": {
        "id": "Uv-iT6lZP4os",
        "colab_type": "text"
      },
      "source": [
        "### Python Data Types\n",
        "\n",
        "- float - real numbers\n",
        "- int - integer numbers\n",
        "- str - string, text\n",
        "- bool - True, False"
      ]
    },
    {
      "cell_type": "code",
      "metadata": {
        "id": "R_R5DamcP4os",
        "colab_type": "code",
        "outputId": "7aa25725-6294-4cdc-ad6c-20764159c3fd",
        "colab": {
          "base_uri": "https://localhost:8080/",
          "height": 34
        }
      },
      "source": [
        "type(bmi)"
      ],
      "execution_count": 0,
      "outputs": [
        {
          "output_type": "execute_result",
          "data": {
            "text/plain": [
              "float"
            ]
          },
          "metadata": {
            "tags": []
          },
          "execution_count": 9
        }
      ]
    },
    {
      "cell_type": "code",
      "metadata": {
        "id": "bkt5EcVAP4ov",
        "colab_type": "code",
        "outputId": "e55fa701-c6f7-4db1-a246-988f1f94d1a3",
        "colab": {
          "base_uri": "https://localhost:8080/",
          "height": 34
        }
      },
      "source": [
        "day_of_week = 5\n",
        "type(day_of_week)"
      ],
      "execution_count": 0,
      "outputs": [
        {
          "output_type": "execute_result",
          "data": {
            "text/plain": [
              "int"
            ]
          },
          "metadata": {
            "tags": []
          },
          "execution_count": 10
        }
      ]
    },
    {
      "cell_type": "code",
      "metadata": {
        "id": "fHHHXcsDP4ox",
        "colab_type": "code",
        "outputId": "5e2a6b51-bc82-45a0-ec7b-f6f931437237",
        "colab": {
          "base_uri": "https://localhost:8080/",
          "height": 34
        }
      },
      "source": [
        "x = \"body mass index\"\n",
        "type(x)"
      ],
      "execution_count": 0,
      "outputs": [
        {
          "output_type": "execute_result",
          "data": {
            "text/plain": [
              "str"
            ]
          },
          "metadata": {
            "tags": []
          },
          "execution_count": 11
        }
      ]
    },
    {
      "cell_type": "code",
      "metadata": {
        "id": "O3VYKHmDP4oz",
        "colab_type": "code",
        "outputId": "208788e0-09da-4dc3-a3bd-d94cf913e8be",
        "colab": {
          "base_uri": "https://localhost:8080/",
          "height": 34
        }
      },
      "source": [
        "y = 'this works too'\n",
        "type(y)"
      ],
      "execution_count": 0,
      "outputs": [
        {
          "output_type": "execute_result",
          "data": {
            "text/plain": [
              "str"
            ]
          },
          "metadata": {
            "tags": []
          },
          "execution_count": 12
        }
      ]
    },
    {
      "cell_type": "code",
      "metadata": {
        "id": "Zd5yknMfP4o2",
        "colab_type": "code",
        "outputId": "42ca8d49-2e52-4bf1-88b5-1f23983d1e41",
        "colab": {
          "base_uri": "https://localhost:8080/",
          "height": 34
        }
      },
      "source": [
        "z = True\n",
        "type(z)"
      ],
      "execution_count": 0,
      "outputs": [
        {
          "output_type": "execute_result",
          "data": {
            "text/plain": [
              "bool"
            ]
          },
          "metadata": {
            "tags": []
          },
          "execution_count": 13
        }
      ]
    },
    {
      "cell_type": "code",
      "metadata": {
        "id": "QzV-teLmP4o4",
        "colab_type": "code",
        "outputId": "d022a1c0-952c-47a4-b5db-cd5ba5f3051d",
        "colab": {
          "base_uri": "https://localhost:8080/",
          "height": 51
        }
      },
      "source": [
        "# Different type = different behavior!\n",
        "print(2 + 3)\n",
        "print('ab' + 'cd')"
      ],
      "execution_count": 0,
      "outputs": [
        {
          "output_type": "stream",
          "text": [
            "5\n",
            "abcd\n"
          ],
          "name": "stdout"
        }
      ]
    },
    {
      "cell_type": "markdown",
      "metadata": {
        "id": "2K35jNYDP4o6",
        "colab_type": "text"
      },
      "source": [
        "# 2.1. Python `List`\n",
        "\n",
        "## Python Data Types\n",
        "- `float` - real numbers\n",
        "- `int` - integer numbers\n",
        "- `str` - string, text\n",
        "- `bool` - True, False\n",
        "- Each variable represents ***single*** value\n",
        "\n",
        "## Problem\n",
        "- Data Science: many data points\n",
        "- Height of entire family\n",
        "```Python\n",
        "In [3]: height1 = 1.73\n",
        "In [4]: height2 = 1.68\n",
        "In [5]: height3 = 1.71\n",
        "In [6]: height4 = 1.89\n",
        "```\n",
        "- Inconvenient\n",
        "\n",
        "## Python `List`\n",
        "- Name a collection of values\n",
        "- Contain any type\n",
        "- Contain different types"
      ]
    },
    {
      "cell_type": "code",
      "metadata": {
        "id": "4KArIq5nP4o7",
        "colab_type": "code",
        "outputId": "83d9ccb1-4aaf-4a5c-e5b1-190f8301deee",
        "colab": {
          "base_uri": "https://localhost:8080/",
          "height": 34
        }
      },
      "source": [
        "# Basic list\n",
        "fam = [1.73, 1.68, 1.71, 1.89]\n",
        "type(fam)"
      ],
      "execution_count": 0,
      "outputs": [
        {
          "output_type": "execute_result",
          "data": {
            "text/plain": [
              "list"
            ]
          },
          "metadata": {
            "tags": []
          },
          "execution_count": 3
        }
      ]
    },
    {
      "cell_type": "code",
      "metadata": {
        "id": "_OdzQ1iIP4o8",
        "colab_type": "code",
        "outputId": "2b0c2e5e-4ec6-4340-8d55-a70c8cebf8d5",
        "colab": {
          "base_uri": "https://localhost:8080/",
          "height": 34
        }
      },
      "source": [
        "# List with multiple types\n",
        "fam = [\"liz\", 1.73, \"emma\", 1.68, \"mom\", 1.71, \"dad\", 1.89]\n",
        "type(fam)"
      ],
      "execution_count": 2,
      "outputs": [
        {
          "output_type": "execute_result",
          "data": {
            "text/plain": [
              "list"
            ]
          },
          "metadata": {
            "tags": []
          },
          "execution_count": 2
        }
      ]
    },
    {
      "cell_type": "code",
      "metadata": {
        "id": "awty84ZMP4o9",
        "colab_type": "code",
        "outputId": "8ff4df60-2d5d-4659-89b5-70ec4e40da0b",
        "colab": {
          "base_uri": "https://localhost:8080/",
          "height": 34
        }
      },
      "source": [
        "# List of lists\n",
        "fam2 = [[\"liz\", 1.73], [\"emma\", 1.68], [\"mom\", 1.71], [\"dad\", 1.89]]\n",
        "type(fam)"
      ],
      "execution_count": 0,
      "outputs": [
        {
          "output_type": "execute_result",
          "data": {
            "text/plain": [
              "list"
            ]
          },
          "metadata": {
            "tags": []
          },
          "execution_count": 8
        }
      ]
    },
    {
      "cell_type": "markdown",
      "metadata": {
        "id": "swyoyq1lP4o_",
        "colab_type": "text"
      },
      "source": [
        "# 2.2. Subsetting lists\n",
        "\n",
        "Zero-based indexing: \n",
        "\n",
        "- $0, 1, 2,\\dots, N-2, N-1$\n",
        "- $-(N-1), -(N-2), \\dots , -2, -1$\n",
        "    "
      ]
    },
    {
      "cell_type": "code",
      "metadata": {
        "id": "hWGKhhcdhFIM",
        "colab_type": "code",
        "outputId": "b0f93203-44c3-4207-8f09-d5a1bd90a6e0",
        "colab": {
          "base_uri": "https://localhost:8080/",
          "height": 34
        }
      },
      "source": [
        "fam"
      ],
      "execution_count": 3,
      "outputs": [
        {
          "output_type": "execute_result",
          "data": {
            "text/plain": [
              "['liz', 1.73, 'emma', 1.68, 'mom', 1.71, 'dad', 1.89]"
            ]
          },
          "metadata": {
            "tags": []
          },
          "execution_count": 3
        }
      ]
    },
    {
      "cell_type": "code",
      "metadata": {
        "id": "Nest_zLqP4o_",
        "colab_type": "code",
        "outputId": "7eeb2042-4f36-418f-e8e2-e8c349cfecc9",
        "colab": {
          "base_uri": "https://localhost:8080/",
          "height": 34
        }
      },
      "source": [
        "fam[3]"
      ],
      "execution_count": 4,
      "outputs": [
        {
          "output_type": "execute_result",
          "data": {
            "text/plain": [
              "1.68"
            ]
          },
          "metadata": {
            "tags": []
          },
          "execution_count": 4
        }
      ]
    },
    {
      "cell_type": "code",
      "metadata": {
        "id": "x1sltHNBP4pB",
        "colab_type": "code",
        "outputId": "6bd89ba1-468e-43ad-be41-2955b2cee744",
        "colab": {}
      },
      "source": [
        "fam[6]"
      ],
      "execution_count": 0,
      "outputs": [
        {
          "output_type": "execute_result",
          "data": {
            "text/plain": [
              "'dad'"
            ]
          },
          "metadata": {
            "tags": []
          },
          "execution_count": 16
        }
      ]
    },
    {
      "cell_type": "code",
      "metadata": {
        "id": "6fXEqbSjP4pC",
        "colab_type": "code",
        "outputId": "f68161f1-d198-4935-8a99-0871ca167930",
        "colab": {}
      },
      "source": [
        "fam[-1]"
      ],
      "execution_count": 0,
      "outputs": [
        {
          "output_type": "execute_result",
          "data": {
            "text/plain": [
              "1.89"
            ]
          },
          "metadata": {
            "tags": []
          },
          "execution_count": 17
        }
      ]
    },
    {
      "cell_type": "code",
      "metadata": {
        "id": "7G7lF0eXP4pD",
        "colab_type": "code",
        "outputId": "96c74b06-dac0-445f-d80b-62279b5ed50c",
        "colab": {}
      },
      "source": [
        "fam[-2]"
      ],
      "execution_count": 0,
      "outputs": [
        {
          "output_type": "execute_result",
          "data": {
            "text/plain": [
              "'dad'"
            ]
          },
          "metadata": {
            "tags": []
          },
          "execution_count": 18
        }
      ]
    },
    {
      "cell_type": "markdown",
      "metadata": {
        "id": "2UvW26cDP4pF",
        "colab_type": "text"
      },
      "source": [
        "## List slicing \n",
        "\n",
        "[ start (inclusive) : end (exclusive) ]"
      ]
    },
    {
      "cell_type": "code",
      "metadata": {
        "id": "TIPtp4CgP4pF",
        "colab_type": "code",
        "outputId": "368fc391-afc9-462b-92f2-9137afa195b0",
        "colab": {}
      },
      "source": [
        "fam[3:5]"
      ],
      "execution_count": 0,
      "outputs": [
        {
          "output_type": "execute_result",
          "data": {
            "text/plain": [
              "[1.68, 'mom']"
            ]
          },
          "metadata": {
            "tags": []
          },
          "execution_count": 19
        }
      ]
    },
    {
      "cell_type": "code",
      "metadata": {
        "id": "KUi_EqnWP4pH",
        "colab_type": "code",
        "outputId": "b1ef3b7c-46c2-4928-a2ff-0674c81113d1",
        "colab": {}
      },
      "source": [
        "fam[1:4]"
      ],
      "execution_count": 0,
      "outputs": [
        {
          "output_type": "execute_result",
          "data": {
            "text/plain": [
              "[1.73, 'emma', 1.68]"
            ]
          },
          "metadata": {
            "tags": []
          },
          "execution_count": 20
        }
      ]
    },
    {
      "cell_type": "code",
      "metadata": {
        "id": "2oH0R24iP4pI",
        "colab_type": "code",
        "outputId": "7fde22b1-f245-4613-9d1f-c69d97190a5c",
        "colab": {}
      },
      "source": [
        "fam[:4]"
      ],
      "execution_count": 0,
      "outputs": [
        {
          "output_type": "execute_result",
          "data": {
            "text/plain": [
              "['liz', 1.73, 'emma', 1.68]"
            ]
          },
          "metadata": {
            "tags": []
          },
          "execution_count": 21
        }
      ]
    },
    {
      "cell_type": "code",
      "metadata": {
        "id": "s9m7geGnP4pJ",
        "colab_type": "code",
        "outputId": "d15e74f3-ca8d-4270-b518-7e721ae4868a",
        "colab": {}
      },
      "source": [
        "fam[5:]"
      ],
      "execution_count": 0,
      "outputs": [
        {
          "output_type": "execute_result",
          "data": {
            "text/plain": [
              "[1.71, 'dad', 1.89]"
            ]
          },
          "metadata": {
            "tags": []
          },
          "execution_count": 22
        }
      ]
    },
    {
      "cell_type": "markdown",
      "metadata": {
        "id": "-BuK6F_EP4pK",
        "colab_type": "text"
      },
      "source": [
        "# 2.3. Manipulating Lists\n",
        "\n",
        "- Change list elements\n",
        "- Add list elements\n",
        "- Remove list elements\n",
        "\n",
        "## Changing list elements\n"
      ]
    },
    {
      "cell_type": "code",
      "metadata": {
        "id": "J_30lPO1P4pK",
        "colab_type": "code",
        "colab": {}
      },
      "source": [
        "fam[7] = 1.86"
      ],
      "execution_count": 0,
      "outputs": []
    },
    {
      "cell_type": "code",
      "metadata": {
        "id": "GHl2DeA3P4pL",
        "colab_type": "code",
        "outputId": "c13c8ee0-2508-4b5f-9e82-38086315427b",
        "colab": {
          "base_uri": "https://localhost:8080/",
          "height": 164
        }
      },
      "source": [
        "fam"
      ],
      "execution_count": 1,
      "outputs": [
        {
          "output_type": "error",
          "ename": "NameError",
          "evalue": "ignored",
          "traceback": [
            "\u001b[0;31m---------------------------------------------------------------------------\u001b[0m",
            "\u001b[0;31mNameError\u001b[0m                                 Traceback (most recent call last)",
            "\u001b[0;32m<ipython-input-1-7a8c8b655256>\u001b[0m in \u001b[0;36m<module>\u001b[0;34m()\u001b[0m\n\u001b[0;32m----> 1\u001b[0;31m \u001b[0mfam\u001b[0m\u001b[0;34m\u001b[0m\u001b[0;34m\u001b[0m\u001b[0m\n\u001b[0m",
            "\u001b[0;31mNameError\u001b[0m: name 'fam' is not defined"
          ]
        }
      ]
    },
    {
      "cell_type": "code",
      "metadata": {
        "id": "IIs4gsCNP4pM",
        "colab_type": "code",
        "colab": {}
      },
      "source": [
        "fam[0:2] = [\"lisa\", 1.74]"
      ],
      "execution_count": 0,
      "outputs": []
    },
    {
      "cell_type": "code",
      "metadata": {
        "id": "LCxY5HTzP4pN",
        "colab_type": "code",
        "outputId": "771655b4-72b1-48ae-d69b-c81beadedf33",
        "colab": {
          "base_uri": "https://localhost:8080/",
          "height": 34
        }
      },
      "source": [
        "fam"
      ],
      "execution_count": 0,
      "outputs": [
        {
          "output_type": "execute_result",
          "data": {
            "text/plain": [
              "['lisa', 1.74, 'emma', 1.68, 'mom', 1.71, 'dad', 1.86]"
            ]
          },
          "metadata": {
            "tags": []
          },
          "execution_count": 12
        }
      ]
    },
    {
      "cell_type": "markdown",
      "metadata": {
        "id": "Kd4uUUQpP4pO",
        "colab_type": "text"
      },
      "source": [
        "## Adding and removing elements"
      ]
    },
    {
      "cell_type": "code",
      "metadata": {
        "id": "zHp0PKVqP4pO",
        "colab_type": "code",
        "outputId": "c0c1392f-cd5a-4894-819a-2c31d56994df",
        "colab": {
          "base_uri": "https://localhost:8080/",
          "height": 34
        }
      },
      "source": [
        "fam_ext = fam + [\"me\", 1.79]\n",
        "fam_ext"
      ],
      "execution_count": 0,
      "outputs": [
        {
          "output_type": "execute_result",
          "data": {
            "text/plain": [
              "['lisa', 1.74, 'emma', 1.68, 'mom', 1.71, 'dad', 1.86, 'me', 1.79]"
            ]
          },
          "metadata": {
            "tags": []
          },
          "execution_count": 14
        }
      ]
    },
    {
      "cell_type": "code",
      "metadata": {
        "id": "hOwQ78uJP4pP",
        "colab_type": "code",
        "outputId": "100a04f4-8efd-4328-acf1-49fbcef35eff",
        "colab": {
          "base_uri": "https://localhost:8080/",
          "height": 34
        }
      },
      "source": [
        "del(fam[2])\n",
        "fam"
      ],
      "execution_count": 0,
      "outputs": [
        {
          "output_type": "execute_result",
          "data": {
            "text/plain": [
              "['lisa', 1.74, 1.68, 'mom', 1.71, 'dad', 1.86]"
            ]
          },
          "metadata": {
            "tags": []
          },
          "execution_count": 15
        }
      ]
    },
    {
      "cell_type": "code",
      "metadata": {
        "id": "J98gQx0pP4pQ",
        "colab_type": "code",
        "outputId": "6c360372-395f-4829-fd29-97a02e511d05",
        "colab": {
          "base_uri": "https://localhost:8080/",
          "height": 34
        }
      },
      "source": [
        "del(fam[2])\n",
        "fam"
      ],
      "execution_count": 0,
      "outputs": [
        {
          "output_type": "execute_result",
          "data": {
            "text/plain": [
              "['lisa', 1.74, 'mom', 1.71, 'dad', 1.86]"
            ]
          },
          "metadata": {
            "tags": []
          },
          "execution_count": 16
        }
      ]
    },
    {
      "cell_type": "markdown",
      "metadata": {
        "id": "WRRQDG0WP4pR",
        "colab_type": "text"
      },
      "source": [
        "## Copying Lists !!!\n",
        "\n",
        "- copying by reference\n",
        "- copying by value "
      ]
    },
    {
      "cell_type": "code",
      "metadata": {
        "id": "2j-jFVgHP4pR",
        "colab_type": "code",
        "outputId": "d6326c34-7e13-4692-e0c7-40fbf8b01848",
        "colab": {
          "base_uri": "https://localhost:8080/",
          "height": 51
        }
      },
      "source": [
        "# Copy by reference (change the copy, change the original)\n",
        "x = [\"a\", \"b\", \"c\"]\n",
        "y = x\n",
        "y[1] = \"z\"\n",
        "print(x)\n",
        "print(y)"
      ],
      "execution_count": 0,
      "outputs": [
        {
          "output_type": "stream",
          "text": [
            "['a', 'z', 'c']\n",
            "['a', 'z', 'c']\n"
          ],
          "name": "stdout"
        }
      ]
    },
    {
      "cell_type": "code",
      "metadata": {
        "id": "McTLKaoXP4pS",
        "colab_type": "code",
        "outputId": "abbe8810-34d2-4a5f-e39e-b6194dc6ba76",
        "colab": {
          "base_uri": "https://localhost:8080/",
          "height": 51
        }
      },
      "source": [
        "# Copy by value (change the copy, no change to the original)\n",
        "x = [\"a\", \"b\", \"c\"]\n",
        "y = x[:] # or y = list(x)\n",
        "y[1] = \"z\"\n",
        "print(x)\n",
        "print(y)"
      ],
      "execution_count": 0,
      "outputs": [
        {
          "output_type": "stream",
          "text": [
            "['a', 'b', 'c']\n",
            "['a', 'z', 'c']\n"
          ],
          "name": "stdout"
        }
      ]
    },
    {
      "cell_type": "markdown",
      "metadata": {
        "id": "lotzyv9GP4pT",
        "colab_type": "text"
      },
      "source": [
        "# 3.1. Functions\n",
        "\n",
        "- Nothing new!\n",
        "- `type()`\n",
        "- Piece of reusable code\n",
        "- Solves particular task\n",
        "- Call function instead of writing code yourself\n",
        "\n",
        "## Example 1: max( ) function\n",
        "\n",
        "Find the largest element in a list."
      ]
    },
    {
      "cell_type": "code",
      "metadata": {
        "id": "NN9LoN7DP4pU",
        "colab_type": "code",
        "outputId": "9d9ae81b-3e81-490e-95b6-45e23778564d",
        "colab": {
          "base_uri": "https://localhost:8080/",
          "height": 34
        }
      },
      "source": [
        "fam = [1.73, 1.68, 1.71, 1.89]\n",
        "tallest = max(fam)\n",
        "print(tallest)"
      ],
      "execution_count": 0,
      "outputs": [
        {
          "output_type": "stream",
          "text": [
            "1.89\n"
          ],
          "name": "stdout"
        }
      ]
    },
    {
      "cell_type": "markdown",
      "metadata": {
        "id": "WVERg4JsP4pU",
        "colab_type": "text"
      },
      "source": [
        "## Example 2: round( ) function\n",
        "\n",
        "Round floating point number."
      ]
    },
    {
      "cell_type": "code",
      "metadata": {
        "id": "tj-0m_5xP4pV",
        "colab_type": "code",
        "outputId": "c4e5a248-c70e-4eec-f3b0-6f15fbfbf621",
        "colab": {
          "base_uri": "https://localhost:8080/",
          "height": 170
        }
      },
      "source": [
        "help(round)"
      ],
      "execution_count": 0,
      "outputs": [
        {
          "output_type": "stream",
          "text": [
            "Help on built-in function round in module builtins:\n",
            "\n",
            "round(...)\n",
            "    round(number[, ndigits]) -> number\n",
            "    \n",
            "    Round a number to a given precision in decimal digits (default 0 digits).\n",
            "    This returns an int when called with one argument, otherwise the\n",
            "    same type as the number. ndigits may be negative.\n",
            "\n"
          ],
          "name": "stdout"
        }
      ]
    },
    {
      "cell_type": "code",
      "metadata": {
        "id": "kmoH-2V9P4pW",
        "colab_type": "code",
        "outputId": "08724bc3-e548-4d10-9b0f-c281222b3b52",
        "colab": {
          "base_uri": "https://localhost:8080/",
          "height": 34
        }
      },
      "source": [
        "round(1.68,1)"
      ],
      "execution_count": 0,
      "outputs": [
        {
          "output_type": "execute_result",
          "data": {
            "text/plain": [
              "1.7"
            ]
          },
          "metadata": {
            "tags": []
          },
          "execution_count": 21
        }
      ]
    },
    {
      "cell_type": "code",
      "metadata": {
        "id": "E7dfQgfhP4pW",
        "colab_type": "code",
        "outputId": "746cbcd5-cc38-44f8-e717-d658e1f31e96",
        "colab": {
          "base_uri": "https://localhost:8080/",
          "height": 34
        }
      },
      "source": [
        "round(1.68)"
      ],
      "execution_count": 0,
      "outputs": [
        {
          "output_type": "execute_result",
          "data": {
            "text/plain": [
              "2"
            ]
          },
          "metadata": {
            "tags": []
          },
          "execution_count": 22
        }
      ]
    },
    {
      "cell_type": "markdown",
      "metadata": {
        "id": "PVaDCUZIP4pX",
        "colab_type": "text"
      },
      "source": [
        "## Finding functions\n",
        "\n",
        "- Standard task $\\rightarrow$ probably function exists!\n",
        "- The internet is your friend (google it!)"
      ]
    },
    {
      "cell_type": "markdown",
      "metadata": {
        "id": "b2KZ-HZNP4pY",
        "colab_type": "text"
      },
      "source": [
        "# 3.2 Methods: Functions that belong to objects\n",
        "\n",
        "- `str` : capitalize(), replace(), etc.\n",
        "- `float` : bit_length(), conjugate()共轭, etc.\n",
        "- `list` : intex(), count(), etc.\n",
        "\n",
        "## `list` Methods"
      ]
    },
    {
      "cell_type": "code",
      "metadata": {
        "id": "-LmuhYfpP4pY",
        "colab_type": "code",
        "outputId": "6e60c06c-572e-4e3d-fbcc-75ce112b0533",
        "colab": {
          "base_uri": "https://localhost:8080/",
          "height": 34
        }
      },
      "source": [
        "fam = ['liz', 1.73, 'emma', 1.68, 'mom', 1.71, 'dad', 1.89]\n",
        "fam.index(\"mom\")"
      ],
      "execution_count": 0,
      "outputs": [
        {
          "output_type": "execute_result",
          "data": {
            "text/plain": [
              "4"
            ]
          },
          "metadata": {
            "tags": []
          },
          "execution_count": 23
        }
      ]
    },
    {
      "cell_type": "code",
      "metadata": {
        "id": "xyNcG-65P4pZ",
        "colab_type": "code",
        "outputId": "d351ecc3-4989-4226-9aef-fb387f2a5dab",
        "colab": {
          "base_uri": "https://localhost:8080/",
          "height": 34
        }
      },
      "source": [
        "fam.count(1.73)"
      ],
      "execution_count": 0,
      "outputs": [
        {
          "output_type": "execute_result",
          "data": {
            "text/plain": [
              "1"
            ]
          },
          "metadata": {
            "tags": []
          },
          "execution_count": 24
        }
      ]
    },
    {
      "cell_type": "code",
      "metadata": {
        "id": "_G2_9R2EpCp4",
        "colab_type": "code",
        "outputId": "e65923eb-090d-4a36-aad2-4fec5802a056",
        "colab": {
          "base_uri": "https://localhost:8080/",
          "height": 34
        }
      },
      "source": [
        "a=3\n",
        "b=a.conjugate()\n",
        "b"
      ],
      "execution_count": 0,
      "outputs": [
        {
          "output_type": "execute_result",
          "data": {
            "text/plain": [
              "3"
            ]
          },
          "metadata": {
            "tags": []
          },
          "execution_count": 27
        }
      ]
    },
    {
      "cell_type": "markdown",
      "metadata": {
        "id": "gn3xi6m9P4pa",
        "colab_type": "text"
      },
      "source": [
        "## `str` Methods"
      ]
    },
    {
      "cell_type": "code",
      "metadata": {
        "id": "LoYXPrVOP4pa",
        "colab_type": "code",
        "outputId": "4537f6ca-87d5-4476-efda-b735cebf2678",
        "colab": {
          "base_uri": "https://localhost:8080/",
          "height": 34
        }
      },
      "source": [
        "sister = \"liz\"\n",
        "sister"
      ],
      "execution_count": 0,
      "outputs": [
        {
          "output_type": "execute_result",
          "data": {
            "text/plain": [
              "'liz'"
            ]
          },
          "metadata": {
            "tags": []
          },
          "execution_count": 28
        }
      ]
    },
    {
      "cell_type": "code",
      "metadata": {
        "id": "itMJ4iEHP4pb",
        "colab_type": "code",
        "outputId": "e769a884-6208-471d-8d24-6e1f02e10946",
        "colab": {
          "base_uri": "https://localhost:8080/",
          "height": 34
        }
      },
      "source": [
        "sister.capitalize()"
      ],
      "execution_count": 0,
      "outputs": [
        {
          "output_type": "execute_result",
          "data": {
            "text/plain": [
              "'Liz'"
            ]
          },
          "metadata": {
            "tags": []
          },
          "execution_count": 29
        }
      ]
    },
    {
      "cell_type": "code",
      "metadata": {
        "id": "w55SHt6YP4pc",
        "colab_type": "code",
        "outputId": "8a724466-1133-4408-9bd4-647d329714da",
        "colab": {
          "base_uri": "https://localhost:8080/",
          "height": 34
        }
      },
      "source": [
        "sister.replace(\"z\", \"sa\")"
      ],
      "execution_count": 0,
      "outputs": [
        {
          "output_type": "execute_result",
          "data": {
            "text/plain": [
              "'lisa'"
            ]
          },
          "metadata": {
            "tags": []
          },
          "execution_count": 30
        }
      ]
    },
    {
      "cell_type": "markdown",
      "metadata": {
        "id": "kWqQVt_NP4pd",
        "colab_type": "text"
      },
      "source": [
        "## Methods\n",
        "- Everything = object\n",
        "- Object have methods associated, depending on type"
      ]
    },
    {
      "cell_type": "code",
      "metadata": {
        "id": "Uoal2qhSptie",
        "colab_type": "code",
        "outputId": "5e11e38f-cf7c-4677-d2f9-707cab154090",
        "colab": {
          "base_uri": "https://localhost:8080/",
          "height": 34
        }
      },
      "source": [
        "fam"
      ],
      "execution_count": 0,
      "outputs": [
        {
          "output_type": "execute_result",
          "data": {
            "text/plain": [
              "['liz', 1.73, 'emma', 1.68, 'mom', 1.71, 'dad', 1.89]"
            ]
          },
          "metadata": {
            "tags": []
          },
          "execution_count": 32
        }
      ]
    },
    {
      "cell_type": "code",
      "metadata": {
        "id": "GtOTrwSoP4pd",
        "colab_type": "code",
        "outputId": "13715bb4-70f0-478f-839e-e648e0117630",
        "colab": {
          "base_uri": "https://localhost:8080/",
          "height": 164
        }
      },
      "source": [
        "fam.replace(\"mom\", \"mommy\")"
      ],
      "execution_count": 5,
      "outputs": [
        {
          "output_type": "error",
          "ename": "AttributeError",
          "evalue": "ignored",
          "traceback": [
            "\u001b[0;31m---------------------------------------------------------------------------\u001b[0m",
            "\u001b[0;31mAttributeError\u001b[0m                            Traceback (most recent call last)",
            "\u001b[0;32m<ipython-input-5-aefcb1bfe312>\u001b[0m in \u001b[0;36m<module>\u001b[0;34m()\u001b[0m\n\u001b[0;32m----> 1\u001b[0;31m \u001b[0mfam\u001b[0m\u001b[0;34m.\u001b[0m\u001b[0mreplace\u001b[0m\u001b[0;34m(\u001b[0m\u001b[0;34m\"mom\"\u001b[0m\u001b[0;34m,\u001b[0m \u001b[0;34m\"mommy\"\u001b[0m\u001b[0;34m)\u001b[0m\u001b[0;34m\u001b[0m\u001b[0;34m\u001b[0m\u001b[0m\n\u001b[0m",
            "\u001b[0;31mAttributeError\u001b[0m: 'list' object has no attribute 'replace'"
          ]
        }
      ]
    },
    {
      "cell_type": "code",
      "metadata": {
        "id": "haZfw0-YP4pe",
        "colab_type": "code",
        "outputId": "bc3a2f3b-22a5-45dd-cdfe-078d643efc6b",
        "colab": {
          "base_uri": "https://localhost:8080/",
          "height": 34
        }
      },
      "source": [
        "sister.index(\"z\")"
      ],
      "execution_count": 0,
      "outputs": [
        {
          "output_type": "execute_result",
          "data": {
            "text/plain": [
              "2"
            ]
          },
          "metadata": {
            "tags": []
          },
          "execution_count": 34
        }
      ]
    },
    {
      "cell_type": "code",
      "metadata": {
        "id": "R8odOjYOP4pe",
        "colab_type": "code",
        "outputId": "2ed9acb8-a385-4676-b1a9-31b0e445f6f0",
        "colab": {
          "base_uri": "https://localhost:8080/",
          "height": 34
        }
      },
      "source": [
        "fam.append(\"me\")\n",
        "fam"
      ],
      "execution_count": 0,
      "outputs": [
        {
          "output_type": "execute_result",
          "data": {
            "text/plain": [
              "['liz', 1.73, 'emma', 1.68, 'mom', 1.71, 'dad', 1.89, 'me']"
            ]
          },
          "metadata": {
            "tags": []
          },
          "execution_count": 35
        }
      ]
    },
    {
      "cell_type": "code",
      "metadata": {
        "id": "ZhmuXDTfP4pf",
        "colab_type": "code",
        "outputId": "4378f2b8-e5ce-4c4b-ed10-0457d667fa0f",
        "colab": {
          "base_uri": "https://localhost:8080/",
          "height": 34
        }
      },
      "source": [
        "fam.append(\"1.79\")\n",
        "fam"
      ],
      "execution_count": 0,
      "outputs": [
        {
          "output_type": "execute_result",
          "data": {
            "text/plain": [
              "['liz', 1.73, 'emma', 1.68, 'mom', 1.71, 'dad', 1.89, 'me', '1.79']"
            ]
          },
          "metadata": {
            "tags": []
          },
          "execution_count": 36
        }
      ]
    },
    {
      "cell_type": "markdown",
      "metadata": {
        "id": "ve-UELV_P4pg",
        "colab_type": "text"
      },
      "source": [
        "## Summary\n",
        "- Functions\n",
        "    - `type(fam)`\n",
        "- Methods: call functions on objects\n",
        "    - `fam.index(\"dad\")`"
      ]
    },
    {
      "cell_type": "markdown",
      "metadata": {
        "id": "A0KyXsSeP4pg",
        "colab_type": "text"
      },
      "source": [
        "# 3.3 Packages\n",
        "\n",
        "## Motivation\n",
        "\n",
        "- Functions and methods are powerful\n",
        "- All code in Python distribution?\n",
        "     - Huge code base: messy\n",
        "     - Lots of code you won’t use\n",
        "     - Maintenance problem\n",
        "\n",
        "## Packages\n",
        "\n",
        "- Directory of Python Scripts\n",
        "- Each script = module\n",
        "- Specify functions, methods, types\n",
        "- Thousands of packages available\n",
        "    - Numpy\n",
        "    - Matplotlib\n",
        "    - Scikit-learn\n",
        "\n",
        "## Install package\n",
        "- http://pip.readthedocs.org/en/stable/installing/\n",
        "- Download get-pip.py\n",
        "- Terminal:\n",
        "    - python get-pip.py\n",
        "    - pip install numpy\n",
        "    \n",
        "## Import package"
      ]
    },
    {
      "cell_type": "code",
      "metadata": {
        "id": "XHG609q4P4pg",
        "colab_type": "code",
        "outputId": "e76c7e85-359e-4cec-ab43-c527f142416a",
        "colab": {
          "base_uri": "https://localhost:8080/",
          "height": 181
        }
      },
      "source": [
        "import numpy\n",
        "array([1, 2, 3])"
      ],
      "execution_count": 6,
      "outputs": [
        {
          "output_type": "error",
          "ename": "NameError",
          "evalue": "ignored",
          "traceback": [
            "\u001b[0;31m---------------------------------------------------------------------------\u001b[0m",
            "\u001b[0;31mNameError\u001b[0m                                 Traceback (most recent call last)",
            "\u001b[0;32m<ipython-input-6-520516189d23>\u001b[0m in \u001b[0;36m<module>\u001b[0;34m()\u001b[0m\n\u001b[1;32m      1\u001b[0m \u001b[0;32mimport\u001b[0m \u001b[0mnumpy\u001b[0m\u001b[0;34m\u001b[0m\u001b[0;34m\u001b[0m\u001b[0m\n\u001b[0;32m----> 2\u001b[0;31m \u001b[0marray\u001b[0m\u001b[0;34m(\u001b[0m\u001b[0;34m[\u001b[0m\u001b[0;36m1\u001b[0m\u001b[0;34m,\u001b[0m \u001b[0;36m2\u001b[0m\u001b[0;34m,\u001b[0m \u001b[0;36m3\u001b[0m\u001b[0;34m]\u001b[0m\u001b[0;34m)\u001b[0m\u001b[0;34m\u001b[0m\u001b[0;34m\u001b[0m\u001b[0m\n\u001b[0m",
            "\u001b[0;31mNameError\u001b[0m: name 'array' is not defined"
          ]
        }
      ]
    },
    {
      "cell_type": "code",
      "metadata": {
        "id": "Fzbibx75P4ph",
        "colab_type": "code",
        "outputId": "31d0a988-a48b-402b-ad38-e7bf85c864ec",
        "colab": {
          "base_uri": "https://localhost:8080/",
          "height": 34
        }
      },
      "source": [
        "numpy.array([1, 2, 3])"
      ],
      "execution_count": 0,
      "outputs": [
        {
          "output_type": "execute_result",
          "data": {
            "text/plain": [
              "array([1, 2, 3])"
            ]
          },
          "metadata": {
            "tags": []
          },
          "execution_count": 38
        }
      ]
    },
    {
      "cell_type": "code",
      "metadata": {
        "id": "5MjfKVSoP4pi",
        "colab_type": "code",
        "outputId": "79f2ae67-01a2-40a3-82db-b386a314e34b",
        "colab": {
          "base_uri": "https://localhost:8080/",
          "height": 34
        }
      },
      "source": [
        "import numpy as np\n",
        "np.array([1, 2, 3])"
      ],
      "execution_count": 0,
      "outputs": [
        {
          "output_type": "execute_result",
          "data": {
            "text/plain": [
              "array([1, 2, 3])"
            ]
          },
          "metadata": {
            "tags": []
          },
          "execution_count": 39
        }
      ]
    },
    {
      "cell_type": "code",
      "metadata": {
        "id": "Tghc9L0HP4pj",
        "colab_type": "code",
        "outputId": "2a4665e3-71a3-426e-b9ac-5a3b1aabc7d3",
        "colab": {
          "base_uri": "https://localhost:8080/",
          "height": 34
        }
      },
      "source": [
        "from numpy import array\n",
        "array([1, 2, 3])"
      ],
      "execution_count": 0,
      "outputs": [
        {
          "output_type": "execute_result",
          "data": {
            "text/plain": [
              "array([1, 2, 3])"
            ]
          },
          "metadata": {
            "tags": []
          },
          "execution_count": 40
        }
      ]
    },
    {
      "cell_type": "markdown",
      "metadata": {
        "id": "x69GsMWaP4pj",
        "colab_type": "text"
      },
      "source": [
        "# 4.1 Numpy\n",
        "\n",
        "## Lists Recap\n",
        "- Powerful\n",
        "- Collection of values\n",
        "- Hold different types\n",
        "- Change, add, remove\n",
        "- Need for Data Science\n",
        "    - Mathematical operations over collections\n",
        "    - Speed\n",
        "\n",
        "## Illustration"
      ]
    },
    {
      "cell_type": "code",
      "metadata": {
        "id": "DnqkBD1-P4pk",
        "colab_type": "code",
        "outputId": "2c13892d-8f98-4339-cfc6-89ab85ca12fd",
        "colab": {
          "base_uri": "https://localhost:8080/",
          "height": 34
        }
      },
      "source": [
        "height = [1.73, 1.68, 1.71, 1.89, 1.79]\n",
        "height"
      ],
      "execution_count": 29,
      "outputs": [
        {
          "output_type": "execute_result",
          "data": {
            "text/plain": [
              "[1.73, 1.68, 1.71, 1.89, 1.79]"
            ]
          },
          "metadata": {
            "tags": []
          },
          "execution_count": 29
        }
      ]
    },
    {
      "cell_type": "code",
      "metadata": {
        "id": "sXrQR4QSP4pk",
        "colab_type": "code",
        "outputId": "7afa8ffe-9c92-4bc8-e010-ea6eb72eb06c",
        "colab": {
          "base_uri": "https://localhost:8080/",
          "height": 34
        }
      },
      "source": [
        "weight = [65.4, 59.2, 63.6, 88.4, 68.7]\n",
        "weight"
      ],
      "execution_count": 30,
      "outputs": [
        {
          "output_type": "execute_result",
          "data": {
            "text/plain": [
              "[65.4, 59.2, 63.6, 88.4, 68.7]"
            ]
          },
          "metadata": {
            "tags": []
          },
          "execution_count": 30
        }
      ]
    },
    {
      "cell_type": "code",
      "metadata": {
        "id": "HJ4E-uDMP4pl",
        "colab_type": "code",
        "outputId": "a62fe5d9-0cbc-4743-8972-990dc23d73ba",
        "colab": {
          "base_uri": "https://localhost:8080/",
          "height": 164
        }
      },
      "source": [
        "weight / height ** 2"
      ],
      "execution_count": 31,
      "outputs": [
        {
          "output_type": "error",
          "ename": "TypeError",
          "evalue": "ignored",
          "traceback": [
            "\u001b[0;31m---------------------------------------------------------------------------\u001b[0m",
            "\u001b[0;31mTypeError\u001b[0m                                 Traceback (most recent call last)",
            "\u001b[0;32m<ipython-input-31-6a4c0c70e3b9>\u001b[0m in \u001b[0;36m<module>\u001b[0;34m()\u001b[0m\n\u001b[0;32m----> 1\u001b[0;31m \u001b[0mweight\u001b[0m \u001b[0;34m/\u001b[0m \u001b[0mheight\u001b[0m \u001b[0;34m**\u001b[0m \u001b[0;36m2\u001b[0m\u001b[0;34m\u001b[0m\u001b[0;34m\u001b[0m\u001b[0m\n\u001b[0m",
            "\u001b[0;31mTypeError\u001b[0m: unsupported operand type(s) for ** or pow(): 'list' and 'int'"
          ]
        }
      ]
    },
    {
      "cell_type": "markdown",
      "metadata": {
        "id": "V-Rvu-KDP4pm",
        "colab_type": "text"
      },
      "source": [
        "## Solution: Numpy\n",
        "- Numeric Python\n",
        "- Alternative to Python List: Numpy Array\n",
        "- Calculations over entire arrays\n",
        "- Easy and Fast\n",
        "- Installation\n",
        "     - In the terminal: pip3 install numpy"
      ]
    },
    {
      "cell_type": "code",
      "metadata": {
        "id": "7TBubinkP4pm",
        "colab_type": "code",
        "outputId": "8bca62e4-f138-4d8d-8289-108e4aa3fc69",
        "colab": {
          "base_uri": "https://localhost:8080/",
          "height": 34
        }
      },
      "source": [
        "import numpy as np\n",
        "np_height = np.array(height)\n",
        "np_height"
      ],
      "execution_count": 32,
      "outputs": [
        {
          "output_type": "execute_result",
          "data": {
            "text/plain": [
              "array([1.73, 1.68, 1.71, 1.89, 1.79])"
            ]
          },
          "metadata": {
            "tags": []
          },
          "execution_count": 32
        }
      ]
    },
    {
      "cell_type": "code",
      "metadata": {
        "id": "Ln0rxxd9P4pn",
        "colab_type": "code",
        "outputId": "60201ea4-d544-4b3e-dab1-5ed10db53f35",
        "colab": {
          "base_uri": "https://localhost:8080/",
          "height": 34
        }
      },
      "source": [
        "np_weight = np.array(weight)\n",
        "np_weight"
      ],
      "execution_count": 33,
      "outputs": [
        {
          "output_type": "execute_result",
          "data": {
            "text/plain": [
              "array([65.4, 59.2, 63.6, 88.4, 68.7])"
            ]
          },
          "metadata": {
            "tags": []
          },
          "execution_count": 33
        }
      ]
    },
    {
      "cell_type": "code",
      "metadata": {
        "id": "fKvRRh0bP4pn",
        "colab_type": "code",
        "outputId": "a81be679-4b21-416a-bda0-a7d2e1f68b55",
        "colab": {
          "base_uri": "https://localhost:8080/",
          "height": 34
        }
      },
      "source": [
        "# Element-wise calculations\n",
        "bmi = np_weight / np_height ** 2\n",
        "bmi"
      ],
      "execution_count": 34,
      "outputs": [
        {
          "output_type": "execute_result",
          "data": {
            "text/plain": [
              "array([21.85171573, 20.97505669, 21.75028214, 24.7473475 , 21.44127836])"
            ]
          },
          "metadata": {
            "tags": []
          },
          "execution_count": 34
        }
      ]
    },
    {
      "cell_type": "markdown",
      "metadata": {
        "id": "9OubIwByP4po",
        "colab_type": "text"
      },
      "source": [
        "## Numpy: remarks\n",
        "- Numpy arrays: contain only one type\n",
        "- Different types: different behavior!"
      ]
    },
    {
      "cell_type": "code",
      "metadata": {
        "id": "DZlb05A0P4po",
        "colab_type": "code",
        "outputId": "a9b15ebd-bea9-49e2-e0d9-147c56940a7b",
        "colab": {
          "base_uri": "https://localhost:8080/",
          "height": 34
        }
      },
      "source": [
        "np.array([1.0, \"is\", True])"
      ],
      "execution_count": 15,
      "outputs": [
        {
          "output_type": "execute_result",
          "data": {
            "text/plain": [
              "array(['1.0', 'is', 'True'], dtype='<U32')"
            ]
          },
          "metadata": {
            "tags": []
          },
          "execution_count": 15
        }
      ]
    },
    {
      "cell_type": "code",
      "metadata": {
        "id": "wKqxnWdWP4pp",
        "colab_type": "code",
        "outputId": "7dc044ce-46ed-483a-e4c7-9caccf332060",
        "colab": {
          "base_uri": "https://localhost:8080/",
          "height": 34
        }
      },
      "source": [
        "python_list = [1, 2, 3]\n",
        "python_list + python_list"
      ],
      "execution_count": 16,
      "outputs": [
        {
          "output_type": "execute_result",
          "data": {
            "text/plain": [
              "[1, 2, 3, 1, 2, 3]"
            ]
          },
          "metadata": {
            "tags": []
          },
          "execution_count": 16
        }
      ]
    },
    {
      "cell_type": "code",
      "metadata": {
        "id": "Vx4c5cVpP4pq",
        "colab_type": "code",
        "outputId": "4969e8fe-eba0-4d16-9775-65ce206705dc",
        "colab": {
          "base_uri": "https://localhost:8080/",
          "height": 34
        }
      },
      "source": [
        "numpy_array = np.array([1, 2, 3])\n",
        "numpy_array + numpy_array"
      ],
      "execution_count": 17,
      "outputs": [
        {
          "output_type": "execute_result",
          "data": {
            "text/plain": [
              "array([2, 4, 6])"
            ]
          },
          "metadata": {
            "tags": []
          },
          "execution_count": 17
        }
      ]
    },
    {
      "cell_type": "markdown",
      "metadata": {
        "id": "PoIJlDJhP4pq",
        "colab_type": "text"
      },
      "source": [
        "## Numpy Subsetting"
      ]
    },
    {
      "cell_type": "code",
      "metadata": {
        "id": "BEKxYdm6P4pr",
        "colab_type": "code",
        "outputId": "e71aee57-6325-498e-9d15-bc82179c5e35",
        "colab": {
          "base_uri": "https://localhost:8080/",
          "height": 34
        }
      },
      "source": [
        "bmi"
      ],
      "execution_count": 35,
      "outputs": [
        {
          "output_type": "execute_result",
          "data": {
            "text/plain": [
              "array([21.85171573, 20.97505669, 21.75028214, 24.7473475 , 21.44127836])"
            ]
          },
          "metadata": {
            "tags": []
          },
          "execution_count": 35
        }
      ]
    },
    {
      "cell_type": "code",
      "metadata": {
        "id": "azqoOwdPP4ps",
        "colab_type": "code",
        "outputId": "ea6b162f-94f2-4988-a16b-de61393fb198",
        "colab": {
          "base_uri": "https://localhost:8080/",
          "height": 34
        }
      },
      "source": [
        "bmi[1]"
      ],
      "execution_count": 36,
      "outputs": [
        {
          "output_type": "execute_result",
          "data": {
            "text/plain": [
              "20.97505668934241"
            ]
          },
          "metadata": {
            "tags": []
          },
          "execution_count": 36
        }
      ]
    },
    {
      "cell_type": "code",
      "metadata": {
        "id": "qMkd9sIiP4ps",
        "colab_type": "code",
        "outputId": "b3e3fd8e-c4c4-49df-ccd0-5d0d94633c58",
        "colab": {
          "base_uri": "https://localhost:8080/",
          "height": 34
        }
      },
      "source": [
        "bmi > 23"
      ],
      "execution_count": 37,
      "outputs": [
        {
          "output_type": "execute_result",
          "data": {
            "text/plain": [
              "array([False, False, False,  True, False])"
            ]
          },
          "metadata": {
            "tags": []
          },
          "execution_count": 37
        }
      ]
    },
    {
      "cell_type": "code",
      "metadata": {
        "id": "JEhx5fdjP4pt",
        "colab_type": "code",
        "outputId": "6d4c55ed-1631-402e-8301-1e7162489657",
        "colab": {
          "base_uri": "https://localhost:8080/",
          "height": 34
        }
      },
      "source": [
        "bmi[bmi > 23]"
      ],
      "execution_count": 38,
      "outputs": [
        {
          "output_type": "execute_result",
          "data": {
            "text/plain": [
              "array([24.7473475])"
            ]
          },
          "metadata": {
            "tags": []
          },
          "execution_count": 38
        }
      ]
    },
    {
      "cell_type": "markdown",
      "metadata": {
        "id": "4akDoV6lP4pu",
        "colab_type": "text"
      },
      "source": [
        "# 4.2. 2D Numpy Arrays\n",
        "\n",
        "## Type of Numpy Arrays\n",
        "- ndarray = N-dimensional array"
      ]
    },
    {
      "cell_type": "code",
      "metadata": {
        "id": "nZDG3C3QP4pu",
        "colab_type": "code",
        "colab": {}
      },
      "source": [
        "import numpy as np\n",
        "np_height = np.array([1.73, 1.68, 1.71, 1.89, 1.79])\n",
        "np_weight = np.array([65.4, 59.2, 63.6, 88.4, 68.7])"
      ],
      "execution_count": 0,
      "outputs": []
    },
    {
      "cell_type": "code",
      "metadata": {
        "id": "xoBT1j1SP4pv",
        "colab_type": "code",
        "outputId": "42c62f4c-e4df-4e95-c715-d84d0f7806b2",
        "colab": {
          "base_uri": "https://localhost:8080/",
          "height": 34
        }
      },
      "source": [
        "type(np_height)"
      ],
      "execution_count": 40,
      "outputs": [
        {
          "output_type": "execute_result",
          "data": {
            "text/plain": [
              "numpy.ndarray"
            ]
          },
          "metadata": {
            "tags": []
          },
          "execution_count": 40
        }
      ]
    },
    {
      "cell_type": "code",
      "metadata": {
        "id": "OArF7WP3P4pw",
        "colab_type": "code",
        "outputId": "9468093f-af0e-4b03-cfd0-33350dfe5abf",
        "colab": {
          "base_uri": "https://localhost:8080/",
          "height": 34
        }
      },
      "source": [
        "type(np_weight)"
      ],
      "execution_count": 41,
      "outputs": [
        {
          "output_type": "execute_result",
          "data": {
            "text/plain": [
              "numpy.ndarray"
            ]
          },
          "metadata": {
            "tags": []
          },
          "execution_count": 41
        }
      ]
    },
    {
      "cell_type": "markdown",
      "metadata": {
        "id": "5nwc2GQkP4pw",
        "colab_type": "text"
      },
      "source": [
        "## 2D Numpy Arrays"
      ]
    },
    {
      "cell_type": "code",
      "metadata": {
        "id": "dKKgCjkOP4px",
        "colab_type": "code",
        "outputId": "13bc7d7c-d091-4e85-fd1a-16856d6fc9fa",
        "colab": {
          "base_uri": "https://localhost:8080/",
          "height": 51
        }
      },
      "source": [
        "np_2d = np.array([[1.73, 1.68, 1.71, 1.89, 1.79],[65.4, 59.2, 63.6, 88.4, 68.7]])\n",
        "np_2d"
      ],
      "execution_count": 42,
      "outputs": [
        {
          "output_type": "execute_result",
          "data": {
            "text/plain": [
              "array([[ 1.73,  1.68,  1.71,  1.89,  1.79],\n",
              "       [65.4 , 59.2 , 63.6 , 88.4 , 68.7 ]])"
            ]
          },
          "metadata": {
            "tags": []
          },
          "execution_count": 42
        }
      ]
    },
    {
      "cell_type": "code",
      "metadata": {
        "id": "4JmiOyXqP4px",
        "colab_type": "code",
        "outputId": "f378ee67-a7d2-49ff-8d9b-bb7fac50a22f",
        "colab": {
          "base_uri": "https://localhost:8080/",
          "height": 34
        }
      },
      "source": [
        "# 2 rows, 5 columns\n",
        "np_2d.shape"
      ],
      "execution_count": 43,
      "outputs": [
        {
          "output_type": "execute_result",
          "data": {
            "text/plain": [
              "(2, 5)"
            ]
          },
          "metadata": {
            "tags": []
          },
          "execution_count": 43
        }
      ]
    },
    {
      "cell_type": "code",
      "metadata": {
        "id": "tj8CSbcyP4py",
        "colab_type": "code",
        "outputId": "9a7407e7-b10c-4880-8e48-cc75ec0c9dbf",
        "colab": {
          "base_uri": "https://localhost:8080/",
          "height": 51
        }
      },
      "source": [
        "# numpy arrays must have a single type\n",
        "np.array([[1.73, 1.68, 1.71, 1.89, 1.79],\n",
        "[65.4, 59.2, 63.6, 88.4, \"68.7\"]])"
      ],
      "execution_count": 44,
      "outputs": [
        {
          "output_type": "execute_result",
          "data": {
            "text/plain": [
              "array([['1.73', '1.68', '1.71', '1.89', '1.79'],\n",
              "       ['65.4', '59.2', '63.6', '88.4', '68.7']], dtype='<U32')"
            ]
          },
          "metadata": {
            "tags": []
          },
          "execution_count": 44
        }
      ]
    },
    {
      "cell_type": "markdown",
      "metadata": {
        "id": "Fc7y-2HHP4pz",
        "colab_type": "text"
      },
      "source": [
        "## Subsetting"
      ]
    },
    {
      "cell_type": "code",
      "metadata": {
        "id": "q3OZejkxP4p0",
        "colab_type": "code",
        "outputId": "3a2007a2-a922-4637-f634-d94343c9680b",
        "colab": {
          "base_uri": "https://localhost:8080/",
          "height": 34
        }
      },
      "source": [
        "# Get the first row\n",
        "np_2d[0]"
      ],
      "execution_count": 45,
      "outputs": [
        {
          "output_type": "execute_result",
          "data": {
            "text/plain": [
              "array([1.73, 1.68, 1.71, 1.89, 1.79])"
            ]
          },
          "metadata": {
            "tags": []
          },
          "execution_count": 45
        }
      ]
    },
    {
      "cell_type": "code",
      "metadata": {
        "id": "Rw4XiQRqP4p0",
        "colab_type": "code",
        "outputId": "b17dbc5f-ef03-40d1-a7f0-64b68a57e59d",
        "colab": {
          "base_uri": "https://localhost:8080/",
          "height": 34
        }
      },
      "source": [
        "# First row, third column\n",
        "np_2d[0][2]"
      ],
      "execution_count": 46,
      "outputs": [
        {
          "output_type": "execute_result",
          "data": {
            "text/plain": [
              "1.71"
            ]
          },
          "metadata": {
            "tags": []
          },
          "execution_count": 46
        }
      ]
    },
    {
      "cell_type": "code",
      "metadata": {
        "id": "ZAQrblLPP4p1",
        "colab_type": "code",
        "outputId": "e5455e1a-e63d-421c-a756-7373f21bf08b",
        "colab": {
          "base_uri": "https://localhost:8080/",
          "height": 34
        }
      },
      "source": [
        "# First row, third column\n",
        "In [12]: np_2d[0,2]"
      ],
      "execution_count": 47,
      "outputs": [
        {
          "output_type": "execute_result",
          "data": {
            "text/plain": [
              "1.71"
            ]
          },
          "metadata": {
            "tags": []
          },
          "execution_count": 47
        }
      ]
    },
    {
      "cell_type": "code",
      "metadata": {
        "id": "MUZIjVf_P4p2",
        "colab_type": "code",
        "outputId": "266e9042-acc9-4fc6-dd82-b5f7a1cd1b0b",
        "colab": {
          "base_uri": "https://localhost:8080/",
          "height": 51
        }
      },
      "source": [
        "# All rows, first through second columns\n",
        "np_2d[:,1:3]"
      ],
      "execution_count": 48,
      "outputs": [
        {
          "output_type": "execute_result",
          "data": {
            "text/plain": [
              "array([[ 1.68,  1.71],\n",
              "       [59.2 , 63.6 ]])"
            ]
          },
          "metadata": {
            "tags": []
          },
          "execution_count": 48
        }
      ]
    },
    {
      "cell_type": "code",
      "metadata": {
        "id": "s3MHhwSEP4p3",
        "colab_type": "code",
        "outputId": "0fd322c4-aafe-4988-dfaf-b96aa59fa443",
        "colab": {
          "base_uri": "https://localhost:8080/",
          "height": 34
        }
      },
      "source": [
        "# Second row, all columns\n",
        "np_2d[1,:]"
      ],
      "execution_count": 49,
      "outputs": [
        {
          "output_type": "execute_result",
          "data": {
            "text/plain": [
              "array([65.4, 59.2, 63.6, 88.4, 68.7])"
            ]
          },
          "metadata": {
            "tags": []
          },
          "execution_count": 49
        }
      ]
    },
    {
      "cell_type": "markdown",
      "metadata": {
        "id": "Io2Bo1cfP4p3",
        "colab_type": "text"
      },
      "source": [
        "# 4.3. Numpy: Basic Statistics\n",
        "\n",
        "## Data analysis\n",
        "\n",
        "- Get to know your data\n",
        "- Little data $\\rightarrow$ simply look at it\n",
        "- Big data $\\rightarrow$ ?\n",
        "\n",
        "## City-wide survey"
      ]
    },
    {
      "cell_type": "code",
      "metadata": {
        "id": "pcPp3aKVP4p4",
        "colab_type": "code",
        "outputId": "fe62ab87-b22c-4afe-d717-5bfd302447eb",
        "colab": {
          "base_uri": "https://localhost:8080/",
          "height": 136
        }
      },
      "source": [
        "import numpy as np\n",
        "\n",
        "# Generatate 5000 normally distributed random variables\n",
        "height = np.round(np.random.normal(1.75, 0.20, 5000), 2) # mean = 1.75, std dev = 0.2\n",
        "weight = np.round(np.random.normal(60.32, 15, 5000), 2) # mean = 60.32, std dev = 15\n",
        "np_city = np.column_stack((height, weight))\n",
        "np_city"
      ],
      "execution_count": 50,
      "outputs": [
        {
          "output_type": "execute_result",
          "data": {
            "text/plain": [
              "array([[ 1.74, 53.23],\n",
              "       [ 1.76, 52.99],\n",
              "       [ 2.05, 52.01],\n",
              "       ...,\n",
              "       [ 1.72, 73.11],\n",
              "       [ 1.89, 46.39],\n",
              "       [ 2.01, 71.83]])"
            ]
          },
          "metadata": {
            "tags": []
          },
          "execution_count": 50
        }
      ]
    },
    {
      "cell_type": "code",
      "metadata": {
        "id": "QPXxdy4GP4p4",
        "colab_type": "code",
        "outputId": "f36c42c5-bb4e-4e0e-e1f7-65c3eff355f7",
        "colab": {
          "base_uri": "https://localhost:8080/",
          "height": 34
        }
      },
      "source": [
        "np.mean(np_city[:,0])"
      ],
      "execution_count": 51,
      "outputs": [
        {
          "output_type": "execute_result",
          "data": {
            "text/plain": [
              "1.7519940000000003"
            ]
          },
          "metadata": {
            "tags": []
          },
          "execution_count": 51
        }
      ]
    },
    {
      "cell_type": "code",
      "metadata": {
        "id": "Mg4aKBxHP4p5",
        "colab_type": "code",
        "outputId": "b56a3566-aec6-427d-db73-19ab84f55256",
        "colab": {
          "base_uri": "https://localhost:8080/",
          "height": 34
        }
      },
      "source": [
        "np.median(np_city[:,0])"
      ],
      "execution_count": 52,
      "outputs": [
        {
          "output_type": "execute_result",
          "data": {
            "text/plain": [
              "1.75"
            ]
          },
          "metadata": {
            "tags": []
          },
          "execution_count": 52
        }
      ]
    },
    {
      "cell_type": "code",
      "metadata": {
        "id": "33rdbhDvP4p6",
        "colab_type": "code",
        "outputId": "f9fa8ad1-881a-460a-b779-81d7555e9074",
        "colab": {
          "base_uri": "https://localhost:8080/",
          "height": 51
        }
      },
      "source": [
        "np.corrcoef(np_city[:,0], np_city[:,1])"
      ],
      "execution_count": 53,
      "outputs": [
        {
          "output_type": "execute_result",
          "data": {
            "text/plain": [
              "array([[ 1.        , -0.00150766],\n",
              "       [-0.00150766,  1.        ]])"
            ]
          },
          "metadata": {
            "tags": []
          },
          "execution_count": 53
        }
      ]
    },
    {
      "cell_type": "code",
      "metadata": {
        "id": "NfuIbDMrP4p7",
        "colab_type": "code",
        "outputId": "a6cee4f1-417e-4eb9-803a-37e2d2214133",
        "colab": {
          "base_uri": "https://localhost:8080/",
          "height": 34
        }
      },
      "source": [
        "np.std(np_city[:,0])"
      ],
      "execution_count": 54,
      "outputs": [
        {
          "output_type": "execute_result",
          "data": {
            "text/plain": [
              "0.19864582543814002"
            ]
          },
          "metadata": {
            "tags": []
          },
          "execution_count": 54
        }
      ]
    },
    {
      "cell_type": "markdown",
      "metadata": {
        "id": "DOqJsu9oP4p7",
        "colab_type": "text"
      },
      "source": [
        "# 5.1. Basic Plots with Matplotlib\n",
        "\n",
        "## Data Visualization\n",
        "- Very important in Data Analysis\n",
        "    - Explore data\n",
        "    - Report insights\n",
        "\n",
        "## Matplotlib"
      ]
    },
    {
      "cell_type": "code",
      "metadata": {
        "id": "tpEykK-MP4p7",
        "colab_type": "code",
        "outputId": "86b1ebea-a577-43c0-f956-904aa952860c",
        "colab": {
          "base_uri": "https://localhost:8080/",
          "height": 269
        }
      },
      "source": [
        "import matplotlib.pyplot as plt\n",
        "year = [1950, 1970, 1990, 2010]\n",
        "pop = [2.519, 3.692, 5.263, 6.972]\n",
        "plt.plot(year, pop)\n",
        "plt.show()"
      ],
      "execution_count": 55,
      "outputs": [
        {
          "output_type": "display_data",
          "data": {
            "image/png": "[encoded data removed]",
            "text/plain": [
              "<Figure size 432x288 with 1 Axes>"
            ]
          },
          "metadata": {
            "tags": []
          }
        }
      ]
    },
    {
      "cell_type": "markdown",
      "metadata": {
        "id": "f4j7w6kiP4p8",
        "colab_type": "text"
      },
      "source": [
        "## Scatter plot"
      ]
    },
    {
      "cell_type": "code",
      "metadata": {
        "id": "-7o-VMN2P4p8",
        "colab_type": "code",
        "outputId": "98ff6db1-02a5-4e4f-f2e5-cdf2c3a1d5f6",
        "colab": {
          "base_uri": "https://localhost:8080/",
          "height": 269
        }
      },
      "source": [
        "plt.scatter(year, pop)\n",
        "plt.show()"
      ],
      "execution_count": 56,
      "outputs": [
        {
          "output_type": "display_data",
          "data": {
            "image/png": "[encoded data removed]",
            "text/plain": [
              "<Figure size 432x288 with 1 Axes>"
            ]
          },
          "metadata": {
            "tags": []
          }
        }
      ]
    },
    {
      "cell_type": "markdown",
      "metadata": {
        "id": "cxr_xdmDP4p9",
        "colab_type": "text"
      },
      "source": [
        "# 5.2. Histograms\n",
        "\n",
        "## Histogram\n",
        "- Explore dataset\n",
        "- Get idea about distribution\n",
        "\n",
        "## Matplotlib"
      ]
    },
    {
      "cell_type": "code",
      "metadata": {
        "id": "Hcl76qwlP4p9",
        "colab_type": "code",
        "outputId": "d0df5642-1b81-4947-be78-20254f1d3c4f",
        "colab": {
          "base_uri": "https://localhost:8080/",
          "height": 1000
        }
      },
      "source": [
        "import matplotlib.pyplot as plt\n",
        "help(plt.hist)"
      ],
      "execution_count": 57,
      "outputs": [
        {
          "output_type": "stream",
          "text": [
            "Help on function hist in module matplotlib.pyplot:\n",
            "\n",
            "hist(x, bins=None, range=None, density=None, weights=None, cumulative=False, bottom=None, histtype='bar', align='mid', orientation='vertical', rwidth=None, log=False, color=None, label=None, stacked=False, normed=None, *, data=None, **kwargs)\n",
            "    Plot a histogram.\n",
            "    \n",
            "    Compute and draw the histogram of *x*. The return value is a\n",
            "    tuple (*n*, *bins*, *patches*) or ([*n0*, *n1*, ...], *bins*,\n",
            "    [*patches0*, *patches1*,...]) if the input contains multiple\n",
            "    data.\n",
            "    \n",
            "    Multiple data can be provided via *x* as a list of datasets\n",
            "    of potentially different length ([*x0*, *x1*, ...]), or as\n",
            "    a 2-D ndarray in which each column is a dataset.  Note that\n",
            "    the ndarray form is transposed relative to the list form.\n",
            "    \n",
            "    Masked arrays are not supported at present.\n",
            "    \n",
            "    Parameters\n",
            "    ----------\n",
            "    x : (n,) array or sequence of (n,) arrays\n",
            "        Input values, this takes either a single array or a sequence of\n",
            "        arrays which are not required to be of the same length.\n",
            "    \n",
            "    bins : int or sequence or str, optional\n",
            "        If an integer is given, ``bins + 1`` bin edges are calculated and\n",
            "        returned, consistent with `numpy.histogram`.\n",
            "    \n",
            "        If `bins` is a sequence, gives bin edges, including left edge of\n",
            "        first bin and right edge of last bin.  In this case, `bins` is\n",
            "        returned unmodified.\n",
            "    \n",
            "        All but the last (righthand-most) bin is half-open.  In other\n",
            "        words, if `bins` is::\n",
            "    \n",
            "            [1, 2, 3, 4]\n",
            "    \n",
            "        then the first bin is ``[1, 2)`` (including 1, but excluding 2) and\n",
            "        the second ``[2, 3)``.  The last bin, however, is ``[3, 4]``, which\n",
            "        *includes* 4.\n",
            "    \n",
            "        Unequally spaced bins are supported if *bins* is a sequence.\n",
            "    \n",
            "        With Numpy 1.11 or newer, you can alternatively provide a string\n",
            "        describing a binning strategy, such as 'auto', 'sturges', 'fd',\n",
            "        'doane', 'scott', 'rice', 'sturges' or 'sqrt', see\n",
            "        `numpy.histogram`.\n",
            "    \n",
            "        The default is taken from :rc:`hist.bins`.\n",
            "    \n",
            "    range : tuple or None, optional\n",
            "        The lower and upper range of the bins. Lower and upper outliers\n",
            "        are ignored. If not provided, *range* is ``(x.min(), x.max())``.\n",
            "        Range has no effect if *bins* is a sequence.\n",
            "    \n",
            "        If *bins* is a sequence or *range* is specified, autoscaling\n",
            "        is based on the specified bin range instead of the\n",
            "        range of x.\n",
            "    \n",
            "        Default is ``None``\n",
            "    \n",
            "    density : bool, optional\n",
            "        If ``True``, the first element of the return tuple will\n",
            "        be the counts normalized to form a probability density, i.e.,\n",
            "        the area (or integral) under the histogram will sum to 1.\n",
            "        This is achieved by dividing the count by the number of\n",
            "        observations times the bin width and not dividing by the total\n",
            "        number of observations. If *stacked* is also ``True``, the sum of\n",
            "        the histograms is normalized to 1.\n",
            "    \n",
            "        Default is ``None`` for both *normed* and *density*. If either is\n",
            "        set, then that value will be used. If neither are set, then the\n",
            "        args will be treated as ``False``.\n",
            "    \n",
            "        If both *density* and *normed* are set an error is raised.\n",
            "    \n",
            "    weights : (n, ) array_like or None, optional\n",
            "        An array of weights, of the same shape as *x*.  Each value in *x*\n",
            "        only contributes its associated weight towards the bin count\n",
            "        (instead of 1).  If *normed* or *density* is ``True``,\n",
            "        the weights are normalized, so that the integral of the density\n",
            "        over the range remains 1.\n",
            "    \n",
            "        Default is ``None``\n",
            "    \n",
            "    cumulative : bool, optional\n",
            "        If ``True``, then a histogram is computed where each bin gives the\n",
            "        counts in that bin plus all bins for smaller values. The last bin\n",
            "        gives the total number of datapoints. If *normed* or *density*\n",
            "        is also ``True`` then the histogram is normalized such that the\n",
            "        last bin equals 1. If *cumulative* evaluates to less than 0\n",
            "        (e.g., -1), the direction of accumulation is reversed.\n",
            "        In this case, if *normed* and/or *density* is also ``True``, then\n",
            "        the histogram is normalized such that the first bin equals 1.\n",
            "    \n",
            "        Default is ``False``\n",
            "    \n",
            "    bottom : array_like, scalar, or None\n",
            "        Location of the bottom baseline of each bin.  If a scalar,\n",
            "        the base line for each bin is shifted by the same amount.\n",
            "        If an array, each bin is shifted independently and the length\n",
            "        of bottom must match the number of bins.  If None, defaults to 0.\n",
            "    \n",
            "        Default is ``None``\n",
            "    \n",
            "    histtype : {'bar', 'barstacked', 'step',  'stepfilled'}, optional\n",
            "        The type of histogram to draw.\n",
            "    \n",
            "        - 'bar' is a traditional bar-type histogram.  If multiple data\n",
            "          are given the bars are arranged side by side.\n",
            "    \n",
            "        - 'barstacked' is a bar-type histogram where multiple\n",
            "          data are stacked on top of each other.\n",
            "    \n",
            "        - 'step' generates a lineplot that is by default\n",
            "          unfilled.\n",
            "    \n",
            "        - 'stepfilled' generates a lineplot that is by default\n",
            "          filled.\n",
            "    \n",
            "        Default is 'bar'\n",
            "    \n",
            "    align : {'left', 'mid', 'right'}, optional\n",
            "        Controls how the histogram is plotted.\n",
            "    \n",
            "            - 'left': bars are centered on the left bin edges.\n",
            "    \n",
            "            - 'mid': bars are centered between the bin edges.\n",
            "    \n",
            "            - 'right': bars are centered on the right bin edges.\n",
            "    \n",
            "        Default is 'mid'\n",
            "    \n",
            "    orientation : {'horizontal', 'vertical'}, optional\n",
            "        If 'horizontal', `~matplotlib.pyplot.barh` will be used for\n",
            "        bar-type histograms and the *bottom* kwarg will be the left edges.\n",
            "    \n",
            "    rwidth : scalar or None, optional\n",
            "        The relative width of the bars as a fraction of the bin width.  If\n",
            "        ``None``, automatically compute the width.\n",
            "    \n",
            "        Ignored if *histtype* is 'step' or 'stepfilled'.\n",
            "    \n",
            "        Default is ``None``\n",
            "    \n",
            "    log : bool, optional\n",
            "        If ``True``, the histogram axis will be set to a log scale. If\n",
            "        *log* is ``True`` and *x* is a 1D array, empty bins will be\n",
            "        filtered out and only the non-empty ``(n, bins, patches)``\n",
            "        will be returned.\n",
            "    \n",
            "        Default is ``False``\n",
            "    \n",
            "    color : color or array_like of colors or None, optional\n",
            "        Color spec or sequence of color specs, one per dataset.  Default\n",
            "        (``None``) uses the standard line color sequence.\n",
            "    \n",
            "        Default is ``None``\n",
            "    \n",
            "    label : str or None, optional\n",
            "        String, or sequence of strings to match multiple datasets.  Bar\n",
            "        charts yield multiple patches per dataset, but only the first gets\n",
            "        the label, so that the legend command will work as expected.\n",
            "    \n",
            "        default is ``None``\n",
            "    \n",
            "    stacked : bool, optional\n",
            "        If ``True``, multiple data are stacked on top of each other If\n",
            "        ``False`` multiple data are arranged side by side if histtype is\n",
            "        'bar' or on top of each other if histtype is 'step'\n",
            "    \n",
            "        Default is ``False``\n",
            "    \n",
            "    normed : bool, optional\n",
            "        Deprecated; use the density keyword argument instead.\n",
            "    \n",
            "    Returns\n",
            "    -------\n",
            "    n : array or list of arrays\n",
            "        The values of the histogram bins. See *normed* or *density*\n",
            "        and *weights* for a description of the possible semantics.\n",
            "        If input *x* is an array, then this is an array of length\n",
            "        *nbins*. If input is a sequence of arrays\n",
            "        ``[data1, data2,..]``, then this is a list of arrays with\n",
            "        the values of the histograms for each of the arrays in the\n",
            "        same order.\n",
            "    \n",
            "    bins : array\n",
            "        The edges of the bins. Length nbins + 1 (nbins left edges and right\n",
            "        edge of last bin).  Always a single array even when multiple data\n",
            "        sets are passed in.\n",
            "    \n",
            "    patches : list or list of lists\n",
            "        Silent list of individual patches used to create the histogram\n",
            "        or list of such list if multiple input datasets.\n",
            "    \n",
            "    Other Parameters\n",
            "    ----------------\n",
            "    **kwargs : `~matplotlib.patches.Patch` properties\n",
            "    \n",
            "    See also\n",
            "    --------\n",
            "    hist2d : 2D histograms\n",
            "    \n",
            "    Notes\n",
            "    -----\n",
            "    .. [Notes section required for data comment. See #10189.]\n",
            "    \n",
            "    .. note::\n",
            "        In addition to the above described arguments, this function can take a\n",
            "        **data** keyword argument. If such a **data** argument is given, the\n",
            "        following arguments are replaced by **data[<arg>]**:\n",
            "    \n",
            "        * All arguments with the following names: 'weights', 'x'.\n",
            "    \n",
            "        Objects passed as **data** must support item access (``data[<arg>]``) and\n",
            "        membership test (``<arg> in data``).\n",
            "\n"
          ],
          "name": "stdout"
        }
      ]
    },
    {
      "cell_type": "markdown",
      "metadata": {
        "id": "F60zRggSP4p-",
        "colab_type": "text"
      },
      "source": [
        "## Matplotlib Example"
      ]
    },
    {
      "cell_type": "code",
      "metadata": {
        "id": "vE2Ye0iuP4p-",
        "colab_type": "code",
        "outputId": "31e650a0-8594-43a7-e8a7-8ae035f8190c",
        "colab": {
          "base_uri": "https://localhost:8080/",
          "height": 269
        }
      },
      "source": [
        "values = [0,0.6,1.4,1.6,2.2,2.5,2.6,3.2,3.5,3.9,4.2,6]\n",
        "plt.hist(values, bins = 3)\n",
        "plt.show()"
      ],
      "execution_count": 58,
      "outputs": [
        {
          "output_type": "display_data",
          "data": {
            "image/png": "[encoded data removed]",
            "text/plain": [
              "<Figure size 432x288 with 1 Axes>"
            ]
          },
          "metadata": {
            "tags": []
          }
        }
      ]
    },
    {
      "cell_type": "code",
      "metadata": {
        "id": "-EEA6ccx92lb",
        "colab_type": "code",
        "colab": {
          "base_uri": "https://localhost:8080/",
          "height": 269
        },
        "outputId": "2230765b-fa50-41a4-c4ec-1cc4c9b8161c"
      },
      "source": [
        "plt.hist(values, bins=6)\n",
        "plt.show()"
      ],
      "execution_count": 60,
      "outputs": [
        {
          "output_type": "display_data",
          "data": {
            "image/png": "[encoded data removed]",
            "text/plain": [
              "<Figure size 432x288 with 1 Axes>"
            ]
          },
          "metadata": {
            "tags": []
          }
        }
      ]
    },
    {
      "cell_type": "markdown",
      "metadata": {
        "id": "v2_9ST4sP4p_",
        "colab_type": "text"
      },
      "source": [
        "# 5.3. Customization\n",
        "\n",
        "## Data Visualization\n",
        "\n",
        "- Science & Art\n",
        "- Many options\n",
        "    - Different plot types\n",
        "    - Many customizations\n",
        "- Choice depends on:\n",
        "    - Data\n",
        "    - Story you want to tell\n",
        "    \n",
        "## Basic Plot"
      ]
    },
    {
      "cell_type": "code",
      "metadata": {
        "id": "0XXqR79kP4p_",
        "colab_type": "code",
        "outputId": "9d679416-ba3d-41dc-9f4f-289ae5583cce",
        "colab": {
          "base_uri": "https://localhost:8080/",
          "height": 269
        }
      },
      "source": [
        "year = np.linspace(1950.,2100.,num=50)\n",
        "\n",
        "K = 11.;\n",
        "P0 = 2.6;\n",
        "r = 0.03;\n",
        "population = K*P0*np.exp(r*(year-year[0])) / (K + P0*(np.exp(r*(year-year[0]))-1.))\n",
        "\n",
        "plt.plot(year, population)\n",
        "plt.show()"
      ],
      "execution_count": 61,
      "outputs": [
        {
          "output_type": "display_data",
          "data": {
            "image/png": "[encoded data removed]",
            "text/plain": [
              "<Figure size 432x288 with 1 Axes>"
            ]
          },
          "metadata": {
            "tags": []
          }
        }
      ]
    },
    {
      "cell_type": "markdown",
      "metadata": {
        "id": "SaWUFnCSP4qA",
        "colab_type": "text"
      },
      "source": [
        "## Axis Labels, Title, Ticks, Axis Limits"
      ]
    },
    {
      "cell_type": "code",
      "metadata": {
        "id": "0woljW5FP4qA",
        "colab_type": "code",
        "outputId": "e572c0af-cfd4-4158-ffe1-d798618450c0",
        "colab": {
          "base_uri": "https://localhost:8080/",
          "height": 295
        }
      },
      "source": [
        "plt.plot(year, population)\n",
        "\n",
        "plt.xlabel('Year')\n",
        "plt.ylabel('Population')\n",
        "plt.title('World Population Projections')\n",
        "plt.yticks([0,2,4,6,8,10])\n",
        "plt.xlim(1950, 2100)\n",
        "plt.ylim(0, 11)\n",
        "\n",
        "plt.show()"
      ],
      "execution_count": 62,
      "outputs": [
        {
          "output_type": "display_data",
          "data": {
            "image/png": "[encoded data removed]",
            "text/plain": [
              "<Figure size 432x288 with 1 Axes>"
            ]
          },
          "metadata": {
            "tags": []
          }
        }
      ]
    },
    {
      "cell_type": "markdown",
      "metadata": {
        "id": "zaPj4OCnP4qB",
        "colab_type": "text"
      },
      "source": [
        "## Tick Labels"
      ]
    },
    {
      "cell_type": "code",
      "metadata": {
        "id": "GJx3aWQZP4qB",
        "colab_type": "code",
        "outputId": "36673fdb-2f6c-4652-b538-ccb9be8c7a00",
        "colab": {
          "base_uri": "https://localhost:8080/",
          "height": 295
        }
      },
      "source": [
        "plt.plot(year, population)\n",
        "\n",
        "plt.xlabel('Year')\n",
        "plt.ylabel('Population')\n",
        "plt.title('World Population Projections')\n",
        "plt.yticks([0,2,4,6,8,10],['0','2B','4B','6B','8B','10B'])\n",
        "plt.xlim(1950, 2100)\n",
        "plt.ylim(0, 11)\n",
        "\n",
        "plt.show()"
      ],
      "execution_count": 63,
      "outputs": [
        {
          "output_type": "display_data",
          "data": {
            "image/png": "[encoded data removed]",
            "text/plain": [
              "<Figure size 432x288 with 1 Axes>"
            ]
          },
          "metadata": {
            "tags": []
          }
        }
      ]
    },
    {
      "cell_type": "markdown",
      "metadata": {
        "id": "UnalAPgLP4qB",
        "colab_type": "text"
      },
      "source": [
        "## Add Historical Data"
      ]
    },
    {
      "cell_type": "code",
      "metadata": {
        "id": "9t9hqKXbP4qC",
        "colab_type": "code",
        "outputId": "3a562899-a25f-4cb1-ef2a-8ad1d8864edb",
        "colab": {
          "base_uri": "https://localhost:8080/",
          "height": 295
        }
      },
      "source": [
        "population = [1.0,1.262,1.650] + population.tolist()\n",
        "year = [1800,1850,1900] + year.tolist()\n",
        "\n",
        "plt.fill_between(year, population, 0, color='green')\n",
        "\n",
        "plt.xlabel('Year')\n",
        "plt.ylabel('Population')\n",
        "plt.title('World Population Projections')\n",
        "plt.yticks([0,2,4,6,8,10],['0','2B','4B','6B','8B','10B'])\n",
        "plt.xlim(1800, 2100)\n",
        "plt.ylim(0, 11)\n",
        "\n",
        "plt.show()"
      ],
      "execution_count": 64,
      "outputs": [
        {
          "output_type": "display_data",
          "data": {
            "image/png": "[encoded data removed]",
            "text/plain": [
              "<Figure size 432x288 with 1 Axes>"
            ]
          },
          "metadata": {
            "tags": []
          }
        }
      ]
    },
    {
      "cell_type": "markdown",
      "metadata": {
        "id": "iLC7VAGqP4qC",
        "colab_type": "text"
      },
      "source": [
        "# 6.1. Boolean Logic & Control Flow\n",
        "\n",
        "## Booleans\n"
      ]
    },
    {
      "cell_type": "code",
      "metadata": {
        "id": "XzvXn3abP4qC",
        "colab_type": "code",
        "outputId": "4fad605d-3b40-4d25-8018-f782f648f0a2",
        "colab": {}
      },
      "source": [
        "2 < 3"
      ],
      "execution_count": 0,
      "outputs": [
        {
          "output_type": "execute_result",
          "data": {
            "text/plain": [
              "True"
            ]
          },
          "metadata": {
            "tags": []
          },
          "execution_count": 86
        }
      ]
    },
    {
      "cell_type": "code",
      "metadata": {
        "id": "o3JGsGO-P4qD",
        "colab_type": "code",
        "outputId": "de308291-e99d-476f-96c3-8599ccc47ac8",
        "colab": {}
      },
      "source": [
        "2 == 3"
      ],
      "execution_count": 0,
      "outputs": [
        {
          "output_type": "execute_result",
          "data": {
            "text/plain": [
              "False"
            ]
          },
          "metadata": {
            "tags": []
          },
          "execution_count": 87
        }
      ]
    },
    {
      "cell_type": "code",
      "metadata": {
        "id": "CokHhMi1P4qE",
        "colab_type": "code",
        "outputId": "99ed17ad-0229-47b6-f6ce-db376818cdf1",
        "colab": {}
      },
      "source": [
        "x = 2\n",
        "y = 3\n",
        "x < y"
      ],
      "execution_count": 0,
      "outputs": [
        {
          "output_type": "execute_result",
          "data": {
            "text/plain": [
              "True"
            ]
          },
          "metadata": {
            "tags": []
          },
          "execution_count": 88
        }
      ]
    },
    {
      "cell_type": "code",
      "metadata": {
        "id": "SIl52bqTP4qE",
        "colab_type": "code",
        "outputId": "0fbb57b2-85d3-4b30-ba5c-3e9efa311114",
        "colab": {}
      },
      "source": [
        "x == y"
      ],
      "execution_count": 0,
      "outputs": [
        {
          "output_type": "execute_result",
          "data": {
            "text/plain": [
              "False"
            ]
          },
          "metadata": {
            "tags": []
          },
          "execution_count": 89
        }
      ]
    },
    {
      "cell_type": "markdown",
      "metadata": {
        "id": "v4eZ1Ia-P4qF",
        "colab_type": "text"
      },
      "source": [
        "## Relational Operators\n",
        "\n",
        "| operator | meaning |\n",
        "| :---: | --- |\n",
        "| < | strictly less than |\n",
        "| <= | less than or equal |\n",
        "| > | strictly greater than |\n",
        "| >= | greater than or equal |\n",
        "| == | equal |\n",
        "| != | not equal |"
      ]
    },
    {
      "cell_type": "markdown",
      "metadata": {
        "id": "jnAp7_M4P4qF",
        "colab_type": "text"
      },
      "source": [
        "## Logical Operators\n",
        "\n",
        "- and\n",
        "- or\n",
        "- not"
      ]
    },
    {
      "cell_type": "code",
      "metadata": {
        "id": "SqDLuAlSP4qF",
        "colab_type": "code",
        "outputId": "db23fb38-98f8-4c7b-b6c8-65ba1671a540",
        "colab": {}
      },
      "source": [
        "print(True and True)\n",
        "print(True and False)\n",
        "print(False and True)\n",
        "print(False and False)"
      ],
      "execution_count": 0,
      "outputs": [
        {
          "output_type": "stream",
          "text": [
            "True\n",
            "False\n",
            "False\n",
            "False\n"
          ],
          "name": "stdout"
        }
      ]
    },
    {
      "cell_type": "code",
      "metadata": {
        "id": "W_nPUl5SP4qG",
        "colab_type": "code",
        "outputId": "2d1ac96e-69b3-49b5-f4f9-e2e1822c1a0a",
        "colab": {}
      },
      "source": [
        "print(True or True)\n",
        "print(True or False)\n",
        "print(False or True)\n",
        "print(False or False)"
      ],
      "execution_count": 0,
      "outputs": [
        {
          "output_type": "stream",
          "text": [
            "True\n",
            "True\n",
            "True\n",
            "False\n"
          ],
          "name": "stdout"
        }
      ]
    },
    {
      "cell_type": "code",
      "metadata": {
        "id": "U2KhnHGrP4qH",
        "colab_type": "code",
        "outputId": "48c33849-7283-429a-d613-03b1ae73064e",
        "colab": {}
      },
      "source": [
        "print(not True)\n",
        "print(not False)"
      ],
      "execution_count": 0,
      "outputs": [
        {
          "output_type": "stream",
          "text": [
            "False\n",
            "True\n"
          ],
          "name": "stdout"
        }
      ]
    },
    {
      "cell_type": "markdown",
      "metadata": {
        "id": "fXmG6Xt-P4qH",
        "colab_type": "text"
      },
      "source": [
        "## Conditional Statements\n",
        "\n",
        "```python\n",
        "if condition :\n",
        "    expression\n",
        "```\n",
        "Note the indentation of expression and the colon after the condition."
      ]
    },
    {
      "cell_type": "code",
      "metadata": {
        "id": "Xyutz4YiP4qI",
        "colab_type": "code",
        "outputId": "defac9b1-3a66-45c0-9df9-912d88d285b5",
        "colab": {}
      },
      "source": [
        "z = 4\n",
        "if z % 2 == 0 :\n",
        "    print(\"z is even\")"
      ],
      "execution_count": 0,
      "outputs": [
        {
          "output_type": "stream",
          "text": [
            "z is even\n"
          ],
          "name": "stdout"
        }
      ]
    },
    {
      "cell_type": "code",
      "metadata": {
        "id": "dgyeQbweP4qI",
        "colab_type": "code",
        "outputId": "c6a3c25b-f15a-4015-f8c4-1459973403c4",
        "colab": {}
      },
      "source": [
        "z = 5\n",
        "if z % 2 == 0 :\n",
        "    print(\"z is even\")\n",
        "else :\n",
        "    print(\"z is odd\")"
      ],
      "execution_count": 0,
      "outputs": [
        {
          "output_type": "stream",
          "text": [
            "z is odd\n"
          ],
          "name": "stdout"
        }
      ]
    },
    {
      "cell_type": "code",
      "metadata": {
        "id": "MiH5NpC3P4qJ",
        "colab_type": "code",
        "outputId": "db5b7580-6cca-4781-ccb6-07fae9837de2",
        "colab": {}
      },
      "source": [
        "z = 3\n",
        "if z % 2 == 0 :\n",
        "    print(\"z is divisible by 2\")\n",
        "elif z % 3 == 0 :\n",
        "    print(\"z is divisible by 3\")\n",
        "else :\n",
        "    print(\"z is neither divisible by 2 nor by 3\")"
      ],
      "execution_count": 0,
      "outputs": [
        {
          "output_type": "stream",
          "text": [
            "z is divisible by 3\n"
          ],
          "name": "stdout"
        }
      ]
    },
    {
      "cell_type": "markdown",
      "metadata": {
        "id": "7hq1SCInP4qK",
        "colab_type": "text"
      },
      "source": [
        "# 6.2. Pandas\n",
        "\n",
        "## Overview\n",
        "\n",
        "- Huge amounts of data are common\n",
        "- 2D Numpy array?\n",
        "    - Only one type possible\n",
        "- Pandas\n",
        "    - High-level data manipulation\n",
        "    - DataFrame\n",
        "  \n",
        "## CSV file $\\rightarrow$ DataFrame"
      ]
    },
    {
      "cell_type": "code",
      "metadata": {
        "id": "2Ec8WSXLP4qL",
        "colab_type": "code",
        "outputId": "0e21037b-4be2-460e-914d-904d6541f0fd",
        "colab": {}
      },
      "source": [
        "import pandas as pd\n",
        "brics = pd.read_csv(\"brics.csv\")\n",
        "brics"
      ],
      "execution_count": 0,
      "outputs": [
        {
          "output_type": "execute_result",
          "data": {
            "text/html": [
              "<div>\n",
              "<style>\n",
              "    .dataframe thead tr:only-child th {\n",
              "        text-align: right;\n",
              "    }\n",
              "\n",
              "    .dataframe thead th {\n",
              "        text-align: left;\n",
              "    }\n",
              "\n",
              "    .dataframe tbody tr th {\n",
              "        vertical-align: top;\n",
              "    }\n",
              "</style>\n",
              "<table border=\"1\" class=\"dataframe\">\n",
              "  <thead>\n",
              "    <tr style=\"text-align: right;\">\n",
              "      <th></th>\n",
              "      <th>Unnamed: 0</th>\n",
              "      <th>country</th>\n",
              "      <th>population</th>\n",
              "      <th>area</th>\n",
              "      <th>capital</th>\n",
              "    </tr>\n",
              "  </thead>\n",
              "  <tbody>\n",
              "    <tr>\n",
              "      <th>0</th>\n",
              "      <td>BR</td>\n",
              "      <td>Brazil</td>\n",
              "      <td>200</td>\n",
              "      <td>8515767</td>\n",
              "      <td>Brasilia</td>\n",
              "    </tr>\n",
              "    <tr>\n",
              "      <th>1</th>\n",
              "      <td>RU</td>\n",
              "      <td>Russia</td>\n",
              "      <td>144</td>\n",
              "      <td>17098242</td>\n",
              "      <td>Moscow</td>\n",
              "    </tr>\n",
              "    <tr>\n",
              "      <th>2</th>\n",
              "      <td>IN</td>\n",
              "      <td>India</td>\n",
              "      <td>1252</td>\n",
              "      <td>3287590</td>\n",
              "      <td>New Delhi</td>\n",
              "    </tr>\n",
              "    <tr>\n",
              "      <th>3</th>\n",
              "      <td>CH</td>\n",
              "      <td>China</td>\n",
              "      <td>1357</td>\n",
              "      <td>9596961</td>\n",
              "      <td>Beijing</td>\n",
              "    </tr>\n",
              "    <tr>\n",
              "      <th>4</th>\n",
              "      <td>SA</td>\n",
              "      <td>South Africa</td>\n",
              "      <td>55</td>\n",
              "      <td>1221037</td>\n",
              "      <td>Pretoria</td>\n",
              "    </tr>\n",
              "  </tbody>\n",
              "</table>\n",
              "</div>"
            ],
            "text/plain": [
              "  Unnamed: 0       country  population      area    capital\n",
              "0         BR        Brazil         200   8515767   Brasilia\n",
              "1         RU        Russia         144  17098242     Moscow\n",
              "2         IN         India        1252   3287590  New Delhi\n",
              "3         CH         China        1357   9596961    Beijing\n",
              "4         SA  South Africa          55   1221037   Pretoria"
            ]
          },
          "metadata": {
            "tags": []
          },
          "execution_count": 96
        }
      ]
    },
    {
      "cell_type": "code",
      "metadata": {
        "id": "fkCTpiU6P4qL",
        "colab_type": "code",
        "outputId": "40b69afe-7745-4422-f520-ed5db85b5e21",
        "colab": {}
      },
      "source": [
        "brics = pd.read_csv(\"brics.csv\", index_col = 0)\n",
        "brics"
      ],
      "execution_count": 0,
      "outputs": [
        {
          "output_type": "execute_result",
          "data": {
            "text/html": [
              "<div>\n",
              "<style>\n",
              "    .dataframe thead tr:only-child th {\n",
              "        text-align: right;\n",
              "    }\n",
              "\n",
              "    .dataframe thead th {\n",
              "        text-align: left;\n",
              "    }\n",
              "\n",
              "    .dataframe tbody tr th {\n",
              "        vertical-align: top;\n",
              "    }\n",
              "</style>\n",
              "<table border=\"1\" class=\"dataframe\">\n",
              "  <thead>\n",
              "    <tr style=\"text-align: right;\">\n",
              "      <th></th>\n",
              "      <th>country</th>\n",
              "      <th>population</th>\n",
              "      <th>area</th>\n",
              "      <th>capital</th>\n",
              "    </tr>\n",
              "  </thead>\n",
              "  <tbody>\n",
              "    <tr>\n",
              "      <th>BR</th>\n",
              "      <td>Brazil</td>\n",
              "      <td>200</td>\n",
              "      <td>8515767</td>\n",
              "      <td>Brasilia</td>\n",
              "    </tr>\n",
              "    <tr>\n",
              "      <th>RU</th>\n",
              "      <td>Russia</td>\n",
              "      <td>144</td>\n",
              "      <td>17098242</td>\n",
              "      <td>Moscow</td>\n",
              "    </tr>\n",
              "    <tr>\n",
              "      <th>IN</th>\n",
              "      <td>India</td>\n",
              "      <td>1252</td>\n",
              "      <td>3287590</td>\n",
              "      <td>New Delhi</td>\n",
              "    </tr>\n",
              "    <tr>\n",
              "      <th>CH</th>\n",
              "      <td>China</td>\n",
              "      <td>1357</td>\n",
              "      <td>9596961</td>\n",
              "      <td>Beijing</td>\n",
              "    </tr>\n",
              "    <tr>\n",
              "      <th>SA</th>\n",
              "      <td>South Africa</td>\n",
              "      <td>55</td>\n",
              "      <td>1221037</td>\n",
              "      <td>Pretoria</td>\n",
              "    </tr>\n",
              "  </tbody>\n",
              "</table>\n",
              "</div>"
            ],
            "text/plain": [
              "         country  population      area    capital\n",
              "BR        Brazil         200   8515767   Brasilia\n",
              "RU        Russia         144  17098242     Moscow\n",
              "IN         India        1252   3287590  New Delhi\n",
              "CH         China        1357   9596961    Beijing\n",
              "SA  South Africa          55   1221037   Pretoria"
            ]
          },
          "metadata": {
            "tags": []
          },
          "execution_count": 97
        }
      ]
    },
    {
      "cell_type": "markdown",
      "metadata": {
        "id": "yPYpQ5ATP4qM",
        "colab_type": "text"
      },
      "source": [
        "## Column access"
      ]
    },
    {
      "cell_type": "code",
      "metadata": {
        "id": "VGO-AtBiP4qM",
        "colab_type": "code",
        "outputId": "35a815b5-2259-445e-ae60-8b536e41ec91",
        "colab": {}
      },
      "source": [
        "brics[\"country\"]"
      ],
      "execution_count": 0,
      "outputs": [
        {
          "output_type": "execute_result",
          "data": {
            "text/plain": [
              "BR          Brazil\n",
              "RU          Russia\n",
              "IN           India\n",
              "CH           China\n",
              "SA    South Africa\n",
              "Name: country, dtype: object"
            ]
          },
          "metadata": {
            "tags": []
          },
          "execution_count": 98
        }
      ]
    },
    {
      "cell_type": "code",
      "metadata": {
        "id": "RRYCgHv6P4qN",
        "colab_type": "code",
        "outputId": "62a8787a-2b21-41a6-ef92-6ddd05a2af90",
        "colab": {}
      },
      "source": [
        "brics.country"
      ],
      "execution_count": 0,
      "outputs": [
        {
          "output_type": "execute_result",
          "data": {
            "text/plain": [
              "BR          Brazil\n",
              "RU          Russia\n",
              "IN           India\n",
              "CH           China\n",
              "SA    South Africa\n",
              "Name: country, dtype: object"
            ]
          },
          "metadata": {
            "tags": []
          },
          "execution_count": 99
        }
      ]
    },
    {
      "cell_type": "markdown",
      "metadata": {
        "id": "OmoJpeayP4qN",
        "colab_type": "text"
      },
      "source": [
        "## Add Column"
      ]
    },
    {
      "cell_type": "code",
      "metadata": {
        "id": "rpBwt7A4P4qO",
        "colab_type": "code",
        "outputId": "63b93b3a-2b2c-4250-e550-442372844887",
        "colab": {}
      },
      "source": [
        "brics[\"on_earth\"] = [True, True, True, True, True]\n",
        "brics"
      ],
      "execution_count": 0,
      "outputs": [
        {
          "output_type": "execute_result",
          "data": {
            "text/html": [
              "<div>\n",
              "<style>\n",
              "    .dataframe thead tr:only-child th {\n",
              "        text-align: right;\n",
              "    }\n",
              "\n",
              "    .dataframe thead th {\n",
              "        text-align: left;\n",
              "    }\n",
              "\n",
              "    .dataframe tbody tr th {\n",
              "        vertical-align: top;\n",
              "    }\n",
              "</style>\n",
              "<table border=\"1\" class=\"dataframe\">\n",
              "  <thead>\n",
              "    <tr style=\"text-align: right;\">\n",
              "      <th></th>\n",
              "      <th>country</th>\n",
              "      <th>population</th>\n",
              "      <th>area</th>\n",
              "      <th>capital</th>\n",
              "      <th>on_earth</th>\n",
              "    </tr>\n",
              "  </thead>\n",
              "  <tbody>\n",
              "    <tr>\n",
              "      <th>BR</th>\n",
              "      <td>Brazil</td>\n",
              "      <td>200</td>\n",
              "      <td>8515767</td>\n",
              "      <td>Brasilia</td>\n",
              "      <td>True</td>\n",
              "    </tr>\n",
              "    <tr>\n",
              "      <th>RU</th>\n",
              "      <td>Russia</td>\n",
              "      <td>144</td>\n",
              "      <td>17098242</td>\n",
              "      <td>Moscow</td>\n",
              "      <td>True</td>\n",
              "    </tr>\n",
              "    <tr>\n",
              "      <th>IN</th>\n",
              "      <td>India</td>\n",
              "      <td>1252</td>\n",
              "      <td>3287590</td>\n",
              "      <td>New Delhi</td>\n",
              "      <td>True</td>\n",
              "    </tr>\n",
              "    <tr>\n",
              "      <th>CH</th>\n",
              "      <td>China</td>\n",
              "      <td>1357</td>\n",
              "      <td>9596961</td>\n",
              "      <td>Beijing</td>\n",
              "      <td>True</td>\n",
              "    </tr>\n",
              "    <tr>\n",
              "      <th>SA</th>\n",
              "      <td>South Africa</td>\n",
              "      <td>55</td>\n",
              "      <td>1221037</td>\n",
              "      <td>Pretoria</td>\n",
              "      <td>True</td>\n",
              "    </tr>\n",
              "  </tbody>\n",
              "</table>\n",
              "</div>"
            ],
            "text/plain": [
              "         country  population      area    capital  on_earth\n",
              "BR        Brazil         200   8515767   Brasilia      True\n",
              "RU        Russia         144  17098242     Moscow      True\n",
              "IN         India        1252   3287590  New Delhi      True\n",
              "CH         China        1357   9596961    Beijing      True\n",
              "SA  South Africa          55   1221037   Pretoria      True"
            ]
          },
          "metadata": {
            "tags": []
          },
          "execution_count": 100
        }
      ]
    },
    {
      "cell_type": "code",
      "metadata": {
        "id": "SRX5qdszP4qO",
        "colab_type": "code",
        "outputId": "0179dd70-ed78-4404-9abc-4d684a788b1c",
        "colab": {}
      },
      "source": [
        "brics[\"density\"] = brics[\"population\"] / brics[\"area\"] * 1000000\n",
        "brics"
      ],
      "execution_count": 0,
      "outputs": [
        {
          "output_type": "execute_result",
          "data": {
            "text/html": [
              "<div>\n",
              "<style>\n",
              "    .dataframe thead tr:only-child th {\n",
              "        text-align: right;\n",
              "    }\n",
              "\n",
              "    .dataframe thead th {\n",
              "        text-align: left;\n",
              "    }\n",
              "\n",
              "    .dataframe tbody tr th {\n",
              "        vertical-align: top;\n",
              "    }\n",
              "</style>\n",
              "<table border=\"1\" class=\"dataframe\">\n",
              "  <thead>\n",
              "    <tr style=\"text-align: right;\">\n",
              "      <th></th>\n",
              "      <th>country</th>\n",
              "      <th>population</th>\n",
              "      <th>area</th>\n",
              "      <th>capital</th>\n",
              "      <th>on_earth</th>\n",
              "      <th>density</th>\n",
              "    </tr>\n",
              "  </thead>\n",
              "  <tbody>\n",
              "    <tr>\n",
              "      <th>BR</th>\n",
              "      <td>Brazil</td>\n",
              "      <td>200</td>\n",
              "      <td>8515767</td>\n",
              "      <td>Brasilia</td>\n",
              "      <td>True</td>\n",
              "      <td>23.485847</td>\n",
              "    </tr>\n",
              "    <tr>\n",
              "      <th>RU</th>\n",
              "      <td>Russia</td>\n",
              "      <td>144</td>\n",
              "      <td>17098242</td>\n",
              "      <td>Moscow</td>\n",
              "      <td>True</td>\n",
              "      <td>8.421918</td>\n",
              "    </tr>\n",
              "    <tr>\n",
              "      <th>IN</th>\n",
              "      <td>India</td>\n",
              "      <td>1252</td>\n",
              "      <td>3287590</td>\n",
              "      <td>New Delhi</td>\n",
              "      <td>True</td>\n",
              "      <td>380.826076</td>\n",
              "    </tr>\n",
              "    <tr>\n",
              "      <th>CH</th>\n",
              "      <td>China</td>\n",
              "      <td>1357</td>\n",
              "      <td>9596961</td>\n",
              "      <td>Beijing</td>\n",
              "      <td>True</td>\n",
              "      <td>141.398928</td>\n",
              "    </tr>\n",
              "    <tr>\n",
              "      <th>SA</th>\n",
              "      <td>South Africa</td>\n",
              "      <td>55</td>\n",
              "      <td>1221037</td>\n",
              "      <td>Pretoria</td>\n",
              "      <td>True</td>\n",
              "      <td>45.043680</td>\n",
              "    </tr>\n",
              "  </tbody>\n",
              "</table>\n",
              "</div>"
            ],
            "text/plain": [
              "         country  population      area    capital  on_earth     density\n",
              "BR        Brazil         200   8515767   Brasilia      True   23.485847\n",
              "RU        Russia         144  17098242     Moscow      True    8.421918\n",
              "IN         India        1252   3287590  New Delhi      True  380.826076\n",
              "CH         China        1357   9596961    Beijing      True  141.398928\n",
              "SA  South Africa          55   1221037   Pretoria      True   45.043680"
            ]
          },
          "metadata": {
            "tags": []
          },
          "execution_count": 101
        }
      ]
    },
    {
      "cell_type": "markdown",
      "metadata": {
        "id": "mQB-hY26P4qP",
        "colab_type": "text"
      },
      "source": [
        "## Row access"
      ]
    },
    {
      "cell_type": "code",
      "metadata": {
        "id": "Jd0PWzIGP4qP",
        "colab_type": "code",
        "outputId": "8c043dfe-a2df-482e-d48e-211814897c11",
        "colab": {}
      },
      "source": [
        "brics.loc[\"BR\"]"
      ],
      "execution_count": 0,
      "outputs": [
        {
          "output_type": "execute_result",
          "data": {
            "text/plain": [
              "country         Brazil\n",
              "population         200\n",
              "area           8515767\n",
              "capital       Brasilia\n",
              "on_earth          True\n",
              "density        23.4858\n",
              "Name: BR, dtype: object"
            ]
          },
          "metadata": {
            "tags": []
          },
          "execution_count": 102
        }
      ]
    },
    {
      "cell_type": "markdown",
      "metadata": {
        "id": "zOMJOh7uP4qQ",
        "colab_type": "text"
      },
      "source": [
        "## Element access"
      ]
    },
    {
      "cell_type": "code",
      "metadata": {
        "id": "nvdxf3o6P4qQ",
        "colab_type": "code",
        "outputId": "757610db-772e-43f6-dcd3-edce3a48ddc1",
        "colab": {}
      },
      "source": [
        "brics.loc[\"CH\",\"capital\"]"
      ],
      "execution_count": 0,
      "outputs": [
        {
          "output_type": "execute_result",
          "data": {
            "text/plain": [
              "'Beijing'"
            ]
          },
          "metadata": {
            "tags": []
          },
          "execution_count": 103
        }
      ]
    },
    {
      "cell_type": "code",
      "metadata": {
        "id": "m3aVm-ylP4qQ",
        "colab_type": "code",
        "outputId": "ba07f48b-1c18-454b-84ba-78c8feff6244",
        "colab": {}
      },
      "source": [
        "brics[\"capital\"].loc[\"CH\"]"
      ],
      "execution_count": 0,
      "outputs": [
        {
          "output_type": "execute_result",
          "data": {
            "text/plain": [
              "'Beijing'"
            ]
          },
          "metadata": {
            "tags": []
          },
          "execution_count": 104
        }
      ]
    },
    {
      "cell_type": "code",
      "metadata": {
        "id": "-zTH4535P4qR",
        "colab_type": "code",
        "outputId": "7c0f78b3-85bb-42b2-90e6-be7bacc68106",
        "colab": {}
      },
      "source": [
        "brics.loc[\"CH\"][\"capital\"]"
      ],
      "execution_count": 0,
      "outputs": [
        {
          "output_type": "execute_result",
          "data": {
            "text/plain": [
              "'Beijing'"
            ]
          },
          "metadata": {
            "tags": []
          },
          "execution_count": 105
        }
      ]
    }
  ]
}